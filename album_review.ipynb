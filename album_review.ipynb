{
  "cells": [
    {
      "cell_type": "markdown",
      "metadata": {
        "id": "zvHbteYrxwee"
      },
      "source": [
        "# Album Review Notebook\n",
        "\n",
        "I have been an avid music listener for years, fueled by my curiosity of musical history, love for different cultures, and awe of musical genius. Despite this, I was not keeping track of which genres, songs, albums, or artists I sought out. Since June 2025, I have decided to finally document my music listening journey in the form of album reviews on Google Slides. It has been incredibly fun and rewarding to listen to old favorites, relive nostalgic phases, and discover new albums. Even more so, it has been incredibly rewarding to share my passion project with friends and family. I have loved having conversations about what songs we put each other on and conversations of music in general. Please check out my [slide presentation (here)](https://docs.google.com/presentation/d/1-sit7RucDORoW2wk91QiWHLnOfyox87Op5ot0wf52d0/edit?usp=sharing) if you haven't already!\n",
        "\n",
        "The purpose of this notebook is to manage, clean, visualize, and analyze the 'Album Review' Google Slides. As a passion project, this notebook will consistently be updated. I will be going step by step on how I do everything. If you ever get confused please let me know so I can rewrite clearer notes. I hope you find this as fun or interesting as much as I had fun writing it!"
      ]
    },
    {
      "cell_type": "markdown",
      "metadata": {
        "id": "DzsuWQv5QzFt"
      },
      "source": [
        "### Loading Libraries and Data"
      ]
    },
    {
      "cell_type": "markdown",
      "metadata": {
        "id": "JVRxS45J1BoU"
      },
      "source": [
        "From the Google Slides, I have a Google Apps Script that automatically exports the Google Slides text data into a Google Sheet such that each row represents a slide and each column represents a text box. Because my Slides have (mostly) consistent formatting, the Google Sheet also has (mostly) consistent formatting throughout the entire spreadsheet. This Google Sheet is then imported into this notebook, and is the source of data for this project."
      ]
    },
    {
      "cell_type": "code",
      "execution_count": 163,
      "metadata": {
        "id": "4ZysW7Qmi2cm"
      },
      "outputs": [],
      "source": [
        "import pandas as pd\n",
        "import numpy as np"
      ]
    },
    {
      "cell_type": "code",
      "execution_count": 164,
      "metadata": {
        "id": "KVmsAzVgyk-p"
      },
      "outputs": [],
      "source": [
        "url = 'https://docs.google.com/spreadsheets/d/17I3OvnBi4OnVEHwU6rUbvNAtlaSK3j25RCozVECPVAU/export?format=csv'\n",
        "df = pd.read_csv(url)"
      ]
    },
    {
      "cell_type": "markdown",
      "metadata": {
        "id": "njadXTpPRUdH"
      },
      "source": [
        "These are the first 5 rows representing the first 5 slides in the slide presentation. Notice that each text box is separated in its own column."
      ]
    },
    {
      "cell_type": "code",
      "execution_count": 165,
      "metadata": {
        "colab": {
          "base_uri": "https://localhost:8080/",
          "height": 556
        },
        "id": "lotUmvINRM2K",
        "outputId": "b868a4af-632a-40c6-9602-de9ada3205a6"
      },
      "outputs": [
        {
          "data": {
            "text/html": [
              "<div>\n",
              "<style scoped>\n",
              "    .dataframe tbody tr th:only-of-type {\n",
              "        vertical-align: middle;\n",
              "    }\n",
              "\n",
              "    .dataframe tbody tr th {\n",
              "        vertical-align: top;\n",
              "    }\n",
              "\n",
              "    .dataframe thead th {\n",
              "        text-align: right;\n",
              "    }\n",
              "</style>\n",
              "<table border=\"1\" class=\"dataframe\">\n",
              "  <thead>\n",
              "    <tr style=\"text-align: right;\">\n",
              "      <th></th>\n",
              "      <th>album</th>\n",
              "      <th>artist_year</th>\n",
              "      <th>length</th>\n",
              "      <th>genre</th>\n",
              "      <th>country_lang</th>\n",
              "      <th>rating</th>\n",
              "      <th>all_song_ratings</th>\n",
              "      <th>all_songs</th>\n",
              "      <th>caption</th>\n",
              "      <th>fav_song</th>\n",
              "      <th>recommend</th>\n",
              "      <th>superlative1</th>\n",
              "      <th>superlative2</th>\n",
              "    </tr>\n",
              "  </thead>\n",
              "  <tbody>\n",
              "    <tr>\n",
              "      <th>0</th>\n",
              "      <td>Valentino’s Album Ratings</td>\n",
              "      <td>All 5/5s*:</td>\n",
              "      <td>Hello all. I document albums I have listened t...</td>\n",
              "      <td>⭑⭑⭑⭑⭑\\n⭑⭑⭑⭑\\n⭑⭑⭑\\n⭑⭑\\n⭑</td>\n",
              "      <td>*All 5/5 albums that I’ve covered on this docu...</td>\n",
              "      <td>Rating System</td>\n",
              "      <td>PERFECT 🤯\\nI Love it😍\\nI like it😜\\nFine😋\\nBad🤮</td>\n",
              "      <td>NaN</td>\n",
              "      <td>NaN</td>\n",
              "      <td>NaN</td>\n",
              "      <td>NaN</td>\n",
              "      <td>NaN</td>\n",
              "      <td>NaN</td>\n",
              "    </tr>\n",
              "    <tr>\n",
              "      <th>1</th>\n",
              "      <td>DeBÍ TiRAR MáS FOToS</td>\n",
              "      <td>Bad Bunny\\n2025</td>\n",
              "      <td>17 songs, 62:01</td>\n",
              "      <td>Genre: Reggaetón</td>\n",
              "      <td>Puerto Rico (Spanish)</td>\n",
              "      <td>Overall: */5</td>\n",
              "      <td>⭑⭑⭑⭑\\n⭑⭑⭑⭑\\n⭑⭑⭑⭑\\n⭑⭑⭑\\n\\n\\n\\n⭑⭑⭑⭑\\n\\n\\n\\n⭑⭑⭑⭑\\...</td>\n",
              "      <td>Nuevayol\\t\\t3:03\\nVoy a llevarte pa PR\\t2:36\\n...</td>\n",
              "      <td>“”</td>\n",
              "      <td>Favorite Song\\nasdf</td>\n",
              "      <td>I Recommend\\nasdf</td>\n",
              "      <td>Honorable Mention\\nasdf</td>\n",
              "      <td>asdf\\nasdf</td>\n",
              "    </tr>\n",
              "    <tr>\n",
              "      <th>2</th>\n",
              "      <td>Rock Doido</td>\n",
              "      <td>Gaby Amarantos\\n2025</td>\n",
              "      <td>22 songs, 36:53</td>\n",
              "      <td>Genre: Funk Brasileiro</td>\n",
              "      <td>Brazil (Portuguese)</td>\n",
              "      <td>Overall: 2/5</td>\n",
              "      <td>⭑⭑\\n⭑⭑⭑⭑\\n⭑⭑⭑⭑\\n⭑⭑⭑\\n⭑⭑\\n⭑\\n(interlude)\\n⭑⭑⭑⭑\\...</td>\n",
              "      <td>Essa Noite Eu Vou Pro Rock\\t1:13\\nArrume-se Co...</td>\n",
              "      <td>“Whole album plays like a DJ set. Mix of Arabi...</td>\n",
              "      <td>Favorite Song\\nDá‑Lhe Sal</td>\n",
              "      <td>I Recommend\\nArrume-se Comigo</td>\n",
              "      <td>Hardest Beat\\nShort Beira Cu</td>\n",
              "      <td>Wish It Were Longer\\nCarregador De Aparelhagem</td>\n",
              "    </tr>\n",
              "    <tr>\n",
              "      <th>3</th>\n",
              "      <td>Luminescent Creatures</td>\n",
              "      <td>Ichiko Aoba\\n2025</td>\n",
              "      <td>11 songs, 35:39</td>\n",
              "      <td>Genre: Folk, Ambient</td>\n",
              "      <td>Japan (Japanese)</td>\n",
              "      <td>Overall: */5</td>\n",
              "      <td>⭑⭑⭑⭑\\n⭑⭑\\n\\n⭑⭑⭑⭑\\n⭑⭑⭑\\n\\n⭑⭑⭑⭑⭑\\n⭑⭑\\n⭑⭑⭑</td>\n",
              "      <td>Coloratura\\t\\t4:08\\n24° 03' 27.0\" \\t1:08\\nN 12...</td>\n",
              "      <td>“”</td>\n",
              "      <td>Favorite Song\\nasdf</td>\n",
              "      <td>I Recommend\\nasdf</td>\n",
              "      <td>Honorable Mention\\nasdf</td>\n",
              "      <td>asdf\\nasdf</td>\n",
              "    </tr>\n",
              "    <tr>\n",
              "      <th>4</th>\n",
              "      <td>Let God Sort Em Out</td>\n",
              "      <td>Pusha T, Malice\\n2025</td>\n",
              "      <td>13 songs, 40:52</td>\n",
              "      <td>Genre: HipHop, Rap</td>\n",
              "      <td>USA (English)</td>\n",
              "      <td>Overall: 2/5</td>\n",
              "      <td>⭑⭑\\n⭑⭑⭑\\n⭑⭑⭑\\n⭑⭑⭑⭑\\n⭑⭑⭑\\n⭑⭑⭑⭑\\n⭑⭑⭑\\n⭑⭑⭑⭑\\n⭑⭑\\n...</td>\n",
              "      <td>The Birds Don't Sing\\t\\t4:00\\nChains &amp; Whips\\t...</td>\n",
              "      <td>“I feel like this should’ve blown my mind but ...</td>\n",
              "      <td>Favorite Song\\nE.B.I.T.D.A.</td>\n",
              "      <td>I Recommend\\nAce Trumpets</td>\n",
              "      <td>Honorable Mention\\nAll Things Considered</td>\n",
              "      <td>Hardest Beat\\nSo Be It</td>\n",
              "    </tr>\n",
              "  </tbody>\n",
              "</table>\n",
              "</div>"
            ],
            "text/plain": [
              "                       album            artist_year  \\\n",
              "0  Valentino’s Album Ratings             All 5/5s*:   \n",
              "1       DeBÍ TiRAR MáS FOToS        Bad Bunny\\n2025   \n",
              "2                 Rock Doido   Gaby Amarantos\\n2025   \n",
              "3      Luminescent Creatures      Ichiko Aoba\\n2025   \n",
              "4        Let God Sort Em Out  Pusha T, Malice\\n2025   \n",
              "\n",
              "                                              length                    genre  \\\n",
              "0  Hello all. I document albums I have listened t...  ⭑⭑⭑⭑⭑\\n⭑⭑⭑⭑\\n⭑⭑⭑\\n⭑⭑\\n⭑   \n",
              "1                                    17 songs, 62:01         Genre: Reggaetón   \n",
              "2                                    22 songs, 36:53   Genre: Funk Brasileiro   \n",
              "3                                    11 songs, 35:39     Genre: Folk, Ambient   \n",
              "4                                    13 songs, 40:52       Genre: HipHop, Rap   \n",
              "\n",
              "                                        country_lang         rating  \\\n",
              "0  *All 5/5 albums that I’ve covered on this docu...  Rating System   \n",
              "1                              Puerto Rico (Spanish)   Overall: */5   \n",
              "2                                Brazil (Portuguese)   Overall: 2/5   \n",
              "3                                   Japan (Japanese)   Overall: */5   \n",
              "4                                      USA (English)   Overall: 2/5   \n",
              "\n",
              "                                    all_song_ratings  \\\n",
              "0     PERFECT 🤯\\nI Love it😍\\nI like it😜\\nFine😋\\nBad🤮   \n",
              "1  ⭑⭑⭑⭑\\n⭑⭑⭑⭑\\n⭑⭑⭑⭑\\n⭑⭑⭑\\n\\n\\n\\n⭑⭑⭑⭑\\n\\n\\n\\n⭑⭑⭑⭑\\...   \n",
              "2  ⭑⭑\\n⭑⭑⭑⭑\\n⭑⭑⭑⭑\\n⭑⭑⭑\\n⭑⭑\\n⭑\\n(interlude)\\n⭑⭑⭑⭑\\...   \n",
              "3            ⭑⭑⭑⭑\\n⭑⭑\\n\\n⭑⭑⭑⭑\\n⭑⭑⭑\\n\\n⭑⭑⭑⭑⭑\\n⭑⭑\\n⭑⭑⭑   \n",
              "4  ⭑⭑\\n⭑⭑⭑\\n⭑⭑⭑\\n⭑⭑⭑⭑\\n⭑⭑⭑\\n⭑⭑⭑⭑\\n⭑⭑⭑\\n⭑⭑⭑⭑\\n⭑⭑\\n...   \n",
              "\n",
              "                                           all_songs  \\\n",
              "0                                                NaN   \n",
              "1  Nuevayol\\t\\t3:03\\nVoy a llevarte pa PR\\t2:36\\n...   \n",
              "2  Essa Noite Eu Vou Pro Rock\\t1:13\\nArrume-se Co...   \n",
              "3  Coloratura\\t\\t4:08\\n24° 03' 27.0\" \\t1:08\\nN 12...   \n",
              "4  The Birds Don't Sing\\t\\t4:00\\nChains & Whips\\t...   \n",
              "\n",
              "                                             caption  \\\n",
              "0                                                NaN   \n",
              "1                                                 “”   \n",
              "2  “Whole album plays like a DJ set. Mix of Arabi...   \n",
              "3                                                 “”   \n",
              "4  “I feel like this should’ve blown my mind but ...   \n",
              "\n",
              "                      fav_song                      recommend  \\\n",
              "0                          NaN                            NaN   \n",
              "1          Favorite Song\\nasdf              I Recommend\\nasdf   \n",
              "2    Favorite Song\\nDá‑Lhe Sal  I Recommend\\nArrume-se Comigo   \n",
              "3          Favorite Song\\nasdf              I Recommend\\nasdf   \n",
              "4  Favorite Song\\nE.B.I.T.D.A.      I Recommend\\nAce Trumpets   \n",
              "\n",
              "                               superlative1  \\\n",
              "0                                       NaN   \n",
              "1                   Honorable Mention\\nasdf   \n",
              "2              Hardest Beat\\nShort Beira Cu   \n",
              "3                   Honorable Mention\\nasdf   \n",
              "4  Honorable Mention\\nAll Things Considered   \n",
              "\n",
              "                                     superlative2  \n",
              "0                                             NaN  \n",
              "1                                      asdf\\nasdf  \n",
              "2  Wish It Were Longer\\nCarregador De Aparelhagem  \n",
              "3                                      asdf\\nasdf  \n",
              "4                          Hardest Beat\\nSo Be It  "
            ]
          },
          "execution_count": 165,
          "metadata": {},
          "output_type": "execute_result"
        }
      ],
      "source": [
        "df.head()"
      ]
    },
    {
      "cell_type": "markdown",
      "metadata": {
        "id": "Ieook5gj0AdZ"
      },
      "source": [
        "# Cleaning Data\n",
        "\n",
        "I will be going step by step on how I clean the unstructured text data from Google Slides. Here is the typical format for an album review on my Google Slide:\n",
        "\n",
        "![\"slide_template\"](slide_template.jpg)\n",
        "\n",
        "I will separate this data into 3 dataframes:\n",
        "1. `album` contains basic album info that can be found on the left side of the slide.\n",
        "2. `song` contains info on each song that can be found in the middle of the slide.\n",
        "3. `semantic` contains text data such as the caption and superlatives I give each album."
      ]
    },
    {
      "cell_type": "markdown",
      "metadata": {
        "id": "QWmShTkw8f8j"
      },
      "source": [
        "## Unfinished Album Reviews\n",
        "\n",
        "Before we get into cleaning, I thought it would be fun to look at the albums I have not finished writing a review for."
      ]
    },
    {
      "cell_type": "code",
      "execution_count": 166,
      "metadata": {
        "colab": {
          "base_uri": "https://localhost:8080/"
        },
        "id": "O_UXoQCMz2FU",
        "outputId": "65d317fb-f0a2-4818-e39d-0cf87d56e09c"
      },
      "outputs": [],
      "source": [
        "unfinished_reviews = df[df['rating'].str.contains('\\*', na = False)]"
      ]
    },
    {
      "cell_type": "code",
      "execution_count": 167,
      "metadata": {
        "colab": {
          "base_uri": "https://localhost:8080/",
          "height": 332
        },
        "collapsed": true,
        "id": "GzKwQzEM6bl2",
        "outputId": "335ba095-73af-44c1-e3c7-242a11f24edc"
      },
      "outputs": [
        {
          "data": {
            "text/html": [
              "<div>\n",
              "<style scoped>\n",
              "    .dataframe tbody tr th:only-of-type {\n",
              "        vertical-align: middle;\n",
              "    }\n",
              "\n",
              "    .dataframe tbody tr th {\n",
              "        vertical-align: top;\n",
              "    }\n",
              "\n",
              "    .dataframe thead th {\n",
              "        text-align: right;\n",
              "    }\n",
              "</style>\n",
              "<table border=\"1\" class=\"dataframe\">\n",
              "  <thead>\n",
              "    <tr style=\"text-align: right;\">\n",
              "      <th></th>\n",
              "      <th>album</th>\n",
              "      <th>artist_year</th>\n",
              "    </tr>\n",
              "  </thead>\n",
              "  <tbody>\n",
              "    <tr>\n",
              "      <th>1</th>\n",
              "      <td>DeBÍ TiRAR MáS FOToS</td>\n",
              "      <td>Bad Bunny\\n2025</td>\n",
              "    </tr>\n",
              "    <tr>\n",
              "      <th>3</th>\n",
              "      <td>Luminescent Creatures</td>\n",
              "      <td>Ichiko Aoba\\n2025</td>\n",
              "    </tr>\n",
              "    <tr>\n",
              "      <th>9</th>\n",
              "      <td>YHLQMDLG</td>\n",
              "      <td>Bad Bunny\\n2020</td>\n",
              "    </tr>\n",
              "    <tr>\n",
              "      <th>21</th>\n",
              "      <td>Minecraft: Volume Alpha</td>\n",
              "      <td>C418\\n2011</td>\n",
              "    </tr>\n",
              "    <tr>\n",
              "      <th>23</th>\n",
              "      <td>You Will Never Know Why</td>\n",
              "      <td>Sweet Trip\\n2009</td>\n",
              "    </tr>\n",
              "    <tr>\n",
              "      <th>59</th>\n",
              "      <td>1996</td>\n",
              "      <td>Ryuichi Sakamoto\\n1996</td>\n",
              "    </tr>\n",
              "    <tr>\n",
              "      <th>64</th>\n",
              "      <td>Circus</td>\n",
              "      <td>Eraserheads\\n1994</td>\n",
              "    </tr>\n",
              "    <tr>\n",
              "      <th>67</th>\n",
              "      <td>15 Boleros De Oro</td>\n",
              "      <td>Los Cadetes De Linares\\n1994 (1977-1982)</td>\n",
              "    </tr>\n",
              "    <tr>\n",
              "      <th>108</th>\n",
              "      <td>Chavela Vargas</td>\n",
              "      <td>Chavela Vargas\\n1961</td>\n",
              "    </tr>\n",
              "  </tbody>\n",
              "</table>\n",
              "</div>"
            ],
            "text/plain": [
              "                       album                               artist_year\n",
              "1       DeBÍ TiRAR MáS FOToS                           Bad Bunny\\n2025\n",
              "3      Luminescent Creatures                         Ichiko Aoba\\n2025\n",
              "9                   YHLQMDLG                           Bad Bunny\\n2020\n",
              "21   Minecraft: Volume Alpha                                C418\\n2011\n",
              "23   You Will Never Know Why                          Sweet Trip\\n2009\n",
              "59                      1996                    Ryuichi Sakamoto\\n1996\n",
              "64                    Circus                         Eraserheads\\n1994\n",
              "67         15 Boleros De Oro  Los Cadetes De Linares\\n1994 (1977-1982)\n",
              "108           Chavela Vargas                      Chavela Vargas\\n1961"
            ]
          },
          "execution_count": 167,
          "metadata": {},
          "output_type": "execute_result"
        }
      ],
      "source": [
        "unfinished_reviews[['album', 'artist_year']]"
      ]
    },
    {
      "cell_type": "markdown",
      "metadata": {
        "id": "tx-8XyOj-CJu"
      },
      "source": [
        "## Album Dataframe\n",
        "\n",
        "The `album` dataframe represents the data on albums I have finished writing a review for. It will contain info of the album but not the songs. It will have schema:\n",
        "\n",
        "`'album', 'artist', 'year', 'rating', 'genre', 'country', 'language', 'num_songs', 'runtime'`"
      ]
    },
    {
      "cell_type": "code",
      "execution_count": 168,
      "metadata": {
        "colab": {
          "base_uri": "https://localhost:8080/",
          "height": 364
        },
        "id": "iyLabLj88GAu",
        "outputId": "eff488e8-8488-4db9-c575-fae3c75e1426"
      },
      "outputs": [
        {
          "data": {
            "text/html": [
              "<div>\n",
              "<style scoped>\n",
              "    .dataframe tbody tr th:only-of-type {\n",
              "        vertical-align: middle;\n",
              "    }\n",
              "\n",
              "    .dataframe tbody tr th {\n",
              "        vertical-align: top;\n",
              "    }\n",
              "\n",
              "    .dataframe thead th {\n",
              "        text-align: right;\n",
              "    }\n",
              "</style>\n",
              "<table border=\"1\" class=\"dataframe\">\n",
              "  <thead>\n",
              "    <tr style=\"text-align: right;\">\n",
              "      <th></th>\n",
              "      <th>album</th>\n",
              "      <th>artist_year</th>\n",
              "      <th>length</th>\n",
              "      <th>genre</th>\n",
              "      <th>country_lang</th>\n",
              "      <th>rating</th>\n",
              "    </tr>\n",
              "  </thead>\n",
              "  <tbody>\n",
              "    <tr>\n",
              "      <th>0</th>\n",
              "      <td>Rock Doido</td>\n",
              "      <td>Gaby Amarantos\\n2025</td>\n",
              "      <td>22 songs, 36:53</td>\n",
              "      <td>Genre: Funk Brasileiro</td>\n",
              "      <td>Brazil (Portuguese)</td>\n",
              "      <td>Overall: 2/5</td>\n",
              "    </tr>\n",
              "    <tr>\n",
              "      <th>1</th>\n",
              "      <td>Let God Sort Em Out</td>\n",
              "      <td>Pusha T, Malice\\n2025</td>\n",
              "      <td>13 songs, 40:52</td>\n",
              "      <td>Genre: HipHop, Rap</td>\n",
              "      <td>USA (English)</td>\n",
              "      <td>Overall: 2/5</td>\n",
              "    </tr>\n",
              "    <tr>\n",
              "      <th>2</th>\n",
              "      <td>I Lay Down My Life For You</td>\n",
              "      <td>JPEGMAFIA\\n2024</td>\n",
              "      <td>14 songs, 41:24</td>\n",
              "      <td>Genre: HipHop, Experimental</td>\n",
              "      <td>USA (English)</td>\n",
              "      <td>Overall: 3/5</td>\n",
              "    </tr>\n",
              "    <tr>\n",
              "      <th>3</th>\n",
              "      <td>Spectre</td>\n",
              "      <td>Blu Swing\\n2023</td>\n",
              "      <td>11 songs, 43:43</td>\n",
              "      <td>Genre: Jazz Pop</td>\n",
              "      <td>Japan (Japanese, English)</td>\n",
              "      <td>Overall: 3/5</td>\n",
              "    </tr>\n",
              "    <tr>\n",
              "      <th>4</th>\n",
              "      <td>De Todas Las Flores</td>\n",
              "      <td>Natalia Lafourcade\\n2022</td>\n",
              "      <td>12 songs, 66:36</td>\n",
              "      <td>Genre: Bolero, Mexican Folk</td>\n",
              "      <td>Mexico (Spanish)</td>\n",
              "      <td>Overall: 4/5</td>\n",
              "    </tr>\n",
              "  </tbody>\n",
              "</table>\n",
              "</div>"
            ],
            "text/plain": [
              "                        album               artist_year           length  \\\n",
              "0                  Rock Doido      Gaby Amarantos\\n2025  22 songs, 36:53   \n",
              "1         Let God Sort Em Out     Pusha T, Malice\\n2025  13 songs, 40:52   \n",
              "2  I Lay Down My Life For You           JPEGMAFIA\\n2024  14 songs, 41:24   \n",
              "3                     Spectre           Blu Swing\\n2023  11 songs, 43:43   \n",
              "4         De Todas Las Flores  Natalia Lafourcade\\n2022  12 songs, 66:36   \n",
              "\n",
              "                         genre               country_lang        rating  \n",
              "0       Genre: Funk Brasileiro        Brazil (Portuguese)  Overall: 2/5  \n",
              "1           Genre: HipHop, Rap              USA (English)  Overall: 2/5  \n",
              "2  Genre: HipHop, Experimental              USA (English)  Overall: 3/5  \n",
              "3              Genre: Jazz Pop  Japan (Japanese, English)  Overall: 3/5  \n",
              "4  Genre: Bolero, Mexican Folk           Mexico (Spanish)  Overall: 4/5  "
            ]
          },
          "execution_count": 168,
          "metadata": {},
          "output_type": "execute_result"
        }
      ],
      "source": [
        "album = df[~df['rating'].str.contains('\\*', na = False)]\n",
        "album = album.loc[1:, ['album', 'artist_year', 'length', 'genre', 'country_lang', 'rating']].reset_index(drop=True)\n",
        "album.head()"
      ]
    },
    {
      "cell_type": "markdown",
      "metadata": {
        "id": "_mFk83XgBkGG"
      },
      "source": [
        "Now we do some dirty work:\n",
        "1. Converting `ratings` column to numeric.\n",
        "2. Splitting `artist_year` column into `artist` and `year`\n",
        "3. Converting `year` column to numeric\n",
        "4. Splitting `length` to `num_songs` and `runtime`\n",
        "5. Converting both `num_songs` and `runtime` to numeric\n",
        "6. Cleaning `genre` column\n",
        "7. Splitting `country_lang` column into `country` and `language`\n",
        "8. Reordering columns to make more visually comprehensive"
      ]
    },
    {
      "cell_type": "code",
      "execution_count": 169,
      "metadata": {
        "id": "o4H6B7Oj-i2x"
      },
      "outputs": [],
      "source": [
        "# Converting ratings col to numeric\n",
        "album['rating'] = album['rating'].apply(lambda x: int(x[-3]))\n",
        "\n",
        "# Splitting artist_year into artist and year\n",
        "album[['artist', 'year']] = album['artist_year'].str.split('\\n', expand = True)\n",
        "\n",
        "# Converting year col into numeric\n",
        "album['year'] = album['year'].apply(lambda x: int(x[0:4]))\n",
        "\n",
        "# Splitting length col to num_songs and runtime\n",
        "album[['num_songs', 'runtime']] = album['length'].str.split(' songs, ', expand = True)\n",
        "\n",
        "# Converting num_songs to numeric\n",
        "album['num_songs'] = album['num_songs'].astype(int)\n",
        "\n",
        "# Converting runtime to timedelta object which measures time\n",
        "from datetime import datetime, timedelta\n",
        "album['runtime'] = album['runtime'].apply(lambda x: timedelta(\n",
        "    minutes = int(x[:x.find(':')]),\n",
        "    seconds = int(x[x.find(':') + 1:])))\n",
        "\n",
        "# Text Cleaning the genre col\n",
        "album['genre'] = album['genre'].apply(lambda x: x[7:])\n",
        "\n",
        "# Splitting country_lang into country and language\n",
        "album[['country', 'language']] = album['country_lang'].str.split(' \\(', expand = True)\n",
        "album['language'] = album['language'].apply(lambda x: x[:-1])\n",
        "\n",
        "# Reordering / selecting columns\n",
        "album = album[['album', 'artist', 'year', 'rating', 'genre', 'country', 'language', 'num_songs', 'runtime']]"
      ]
    },
    {
      "cell_type": "code",
      "execution_count": 170,
      "metadata": {
        "colab": {
          "base_uri": "https://localhost:8080/",
          "height": 293
        },
        "id": "c1vwekNXU0oZ",
        "outputId": "0fa1b8d9-756e-4eb2-b712-edc6dd1af849"
      },
      "outputs": [
        {
          "data": {
            "text/html": [
              "<div>\n",
              "<style scoped>\n",
              "    .dataframe tbody tr th:only-of-type {\n",
              "        vertical-align: middle;\n",
              "    }\n",
              "\n",
              "    .dataframe tbody tr th {\n",
              "        vertical-align: top;\n",
              "    }\n",
              "\n",
              "    .dataframe thead th {\n",
              "        text-align: right;\n",
              "    }\n",
              "</style>\n",
              "<table border=\"1\" class=\"dataframe\">\n",
              "  <thead>\n",
              "    <tr style=\"text-align: right;\">\n",
              "      <th></th>\n",
              "      <th>album</th>\n",
              "      <th>artist</th>\n",
              "      <th>year</th>\n",
              "      <th>rating</th>\n",
              "      <th>genre</th>\n",
              "      <th>country</th>\n",
              "      <th>language</th>\n",
              "      <th>num_songs</th>\n",
              "      <th>runtime</th>\n",
              "    </tr>\n",
              "  </thead>\n",
              "  <tbody>\n",
              "    <tr>\n",
              "      <th>0</th>\n",
              "      <td>Rock Doido</td>\n",
              "      <td>Gaby Amarantos</td>\n",
              "      <td>2025</td>\n",
              "      <td>2</td>\n",
              "      <td>Funk Brasileiro</td>\n",
              "      <td>Brazil</td>\n",
              "      <td>Portuguese</td>\n",
              "      <td>22</td>\n",
              "      <td>0 days 00:36:53</td>\n",
              "    </tr>\n",
              "    <tr>\n",
              "      <th>1</th>\n",
              "      <td>Let God Sort Em Out</td>\n",
              "      <td>Pusha T, Malice</td>\n",
              "      <td>2025</td>\n",
              "      <td>2</td>\n",
              "      <td>HipHop, Rap</td>\n",
              "      <td>USA</td>\n",
              "      <td>English</td>\n",
              "      <td>13</td>\n",
              "      <td>0 days 00:40:52</td>\n",
              "    </tr>\n",
              "    <tr>\n",
              "      <th>2</th>\n",
              "      <td>I Lay Down My Life For You</td>\n",
              "      <td>JPEGMAFIA</td>\n",
              "      <td>2024</td>\n",
              "      <td>3</td>\n",
              "      <td>HipHop, Experimental</td>\n",
              "      <td>USA</td>\n",
              "      <td>English</td>\n",
              "      <td>14</td>\n",
              "      <td>0 days 00:41:24</td>\n",
              "    </tr>\n",
              "    <tr>\n",
              "      <th>3</th>\n",
              "      <td>Spectre</td>\n",
              "      <td>Blu Swing</td>\n",
              "      <td>2023</td>\n",
              "      <td>3</td>\n",
              "      <td>Jazz Pop</td>\n",
              "      <td>Japan</td>\n",
              "      <td>Japanese, English</td>\n",
              "      <td>11</td>\n",
              "      <td>0 days 00:43:43</td>\n",
              "    </tr>\n",
              "    <tr>\n",
              "      <th>4</th>\n",
              "      <td>De Todas Las Flores</td>\n",
              "      <td>Natalia Lafourcade</td>\n",
              "      <td>2022</td>\n",
              "      <td>4</td>\n",
              "      <td>Bolero, Mexican Folk</td>\n",
              "      <td>Mexico</td>\n",
              "      <td>Spanish</td>\n",
              "      <td>12</td>\n",
              "      <td>0 days 01:06:36</td>\n",
              "    </tr>\n",
              "  </tbody>\n",
              "</table>\n",
              "</div>"
            ],
            "text/plain": [
              "                        album              artist  year  rating  \\\n",
              "0                  Rock Doido      Gaby Amarantos  2025       2   \n",
              "1         Let God Sort Em Out     Pusha T, Malice  2025       2   \n",
              "2  I Lay Down My Life For You           JPEGMAFIA  2024       3   \n",
              "3                     Spectre           Blu Swing  2023       3   \n",
              "4         De Todas Las Flores  Natalia Lafourcade  2022       4   \n",
              "\n",
              "                  genre country           language  num_songs         runtime  \n",
              "0       Funk Brasileiro  Brazil         Portuguese         22 0 days 00:36:53  \n",
              "1           HipHop, Rap     USA            English         13 0 days 00:40:52  \n",
              "2  HipHop, Experimental     USA            English         14 0 days 00:41:24  \n",
              "3              Jazz Pop   Japan  Japanese, English         11 0 days 00:43:43  \n",
              "4  Bolero, Mexican Folk  Mexico            Spanish         12 0 days 01:06:36  "
            ]
          },
          "execution_count": 170,
          "metadata": {},
          "output_type": "execute_result"
        }
      ],
      "source": [
        "album.head()"
      ]
    },
    {
      "cell_type": "markdown",
      "metadata": {
        "id": "hu2RR4HyYC94"
      },
      "source": [
        "With that our `album` dataframe is ready for analysis."
      ]
    },
    {
      "cell_type": "markdown",
      "metadata": {
        "id": "StGFTD7j0yyp"
      },
      "source": [
        "## Songs Dataframe\n",
        "\n",
        "Dataset of the rating I give each song. I am only going to attach the album name. Album name can be like a foreign key to later combine dataset for further analysis."
      ]
    },
    {
      "cell_type": "code",
      "execution_count": 171,
      "metadata": {
        "colab": {
          "base_uri": "https://localhost:8080/",
          "height": 364
        },
        "id": "gl0_53Ns0yeg",
        "outputId": "5d881db6-4d63-455d-e342-fc7075ffca68"
      },
      "outputs": [
        {
          "data": {
            "text/html": [
              "<div>\n",
              "<style scoped>\n",
              "    .dataframe tbody tr th:only-of-type {\n",
              "        vertical-align: middle;\n",
              "    }\n",
              "\n",
              "    .dataframe tbody tr th {\n",
              "        vertical-align: top;\n",
              "    }\n",
              "\n",
              "    .dataframe thead th {\n",
              "        text-align: right;\n",
              "    }\n",
              "</style>\n",
              "<table border=\"1\" class=\"dataframe\">\n",
              "  <thead>\n",
              "    <tr style=\"text-align: right;\">\n",
              "      <th></th>\n",
              "      <th>album</th>\n",
              "      <th>all_songs</th>\n",
              "      <th>all_song_ratings</th>\n",
              "    </tr>\n",
              "  </thead>\n",
              "  <tbody>\n",
              "    <tr>\n",
              "      <th>0</th>\n",
              "      <td>Rock Doido</td>\n",
              "      <td>Essa Noite Eu Vou Pro Rock\\t1:13\\nArrume-se Co...</td>\n",
              "      <td>⭑⭑\\n⭑⭑⭑⭑\\n⭑⭑⭑⭑\\n⭑⭑⭑\\n⭑⭑\\n⭑\\n(interlude)\\n⭑⭑⭑⭑\\...</td>\n",
              "    </tr>\n",
              "    <tr>\n",
              "      <th>1</th>\n",
              "      <td>Let God Sort Em Out</td>\n",
              "      <td>The Birds Don't Sing\\t\\t4:00\\nChains &amp; Whips\\t...</td>\n",
              "      <td>⭑⭑\\n⭑⭑⭑\\n⭑⭑⭑\\n⭑⭑⭑⭑\\n⭑⭑⭑\\n⭑⭑⭑⭑\\n⭑⭑⭑\\n⭑⭑⭑⭑\\n⭑⭑\\n...</td>\n",
              "    </tr>\n",
              "    <tr>\n",
              "      <th>2</th>\n",
              "      <td>I Lay Down My Life For You</td>\n",
              "      <td>I Scream This In The Mirror \\t1:48\\nBefore I I...</td>\n",
              "      <td>⭑\\n\\n⭑⭑⭑\\n⭑⭑⭑⭑⭑\\n⭑⭑⭑⭑\\n⭑⭑\\n⭑⭑⭑\\n⭑⭑\\n⭑⭑⭑\\n⭑\\n⭑⭑...</td>\n",
              "    </tr>\n",
              "    <tr>\n",
              "      <th>3</th>\n",
              "      <td>Spectre</td>\n",
              "      <td>We’ll Be Right Back \\t4:22\\nCall Out\\t\\t\\t4:55...</td>\n",
              "      <td>⭑⭑⭑⭑\\n⭑⭑⭑⭑\\n⭑⭑⭑\\n⭑⭑⭑\\n⭑⭑\\n⭑⭑\\n⭑\\n⭑⭑\\n⭑⭑⭑⭑\\n⭑⭑⭑...</td>\n",
              "    </tr>\n",
              "    <tr>\n",
              "      <th>4</th>\n",
              "      <td>De Todas Las Flores</td>\n",
              "      <td>Vine Solita\\t\\t\\t6:26\\nDe Todas Las Flores\\t\\t...</td>\n",
              "      <td>⭑⭑⭑⭑⭑\\n⭑⭑⭑⭑\\n⭑⭑⭑\\n⭑⭑⭑\\n⭑⭑⭑⭑⭑\\n⭑⭑⭑⭑⭑\\n⭑⭑⭑⭑⭑\\n⭑⭑...</td>\n",
              "    </tr>\n",
              "  </tbody>\n",
              "</table>\n",
              "</div>"
            ],
            "text/plain": [
              "                        album  \\\n",
              "0                  Rock Doido   \n",
              "1         Let God Sort Em Out   \n",
              "2  I Lay Down My Life For You   \n",
              "3                     Spectre   \n",
              "4         De Todas Las Flores   \n",
              "\n",
              "                                           all_songs  \\\n",
              "0  Essa Noite Eu Vou Pro Rock\\t1:13\\nArrume-se Co...   \n",
              "1  The Birds Don't Sing\\t\\t4:00\\nChains & Whips\\t...   \n",
              "2  I Scream This In The Mirror \\t1:48\\nBefore I I...   \n",
              "3  We’ll Be Right Back \\t4:22\\nCall Out\\t\\t\\t4:55...   \n",
              "4  Vine Solita\\t\\t\\t6:26\\nDe Todas Las Flores\\t\\t...   \n",
              "\n",
              "                                    all_song_ratings  \n",
              "0  ⭑⭑\\n⭑⭑⭑⭑\\n⭑⭑⭑⭑\\n⭑⭑⭑\\n⭑⭑\\n⭑\\n(interlude)\\n⭑⭑⭑⭑\\...  \n",
              "1  ⭑⭑\\n⭑⭑⭑\\n⭑⭑⭑\\n⭑⭑⭑⭑\\n⭑⭑⭑\\n⭑⭑⭑⭑\\n⭑⭑⭑\\n⭑⭑⭑⭑\\n⭑⭑\\n...  \n",
              "2  ⭑\\n\\n⭑⭑⭑\\n⭑⭑⭑⭑⭑\\n⭑⭑⭑⭑\\n⭑⭑\\n⭑⭑⭑\\n⭑⭑\\n⭑⭑⭑\\n⭑\\n⭑⭑...  \n",
              "3  ⭑⭑⭑⭑\\n⭑⭑⭑⭑\\n⭑⭑⭑\\n⭑⭑⭑\\n⭑⭑\\n⭑⭑\\n⭑\\n⭑⭑\\n⭑⭑⭑⭑\\n⭑⭑⭑...  \n",
              "4  ⭑⭑⭑⭑⭑\\n⭑⭑⭑⭑\\n⭑⭑⭑\\n⭑⭑⭑\\n⭑⭑⭑⭑⭑\\n⭑⭑⭑⭑⭑\\n⭑⭑⭑⭑⭑\\n⭑⭑...  "
            ]
          },
          "execution_count": 171,
          "metadata": {},
          "output_type": "execute_result"
        }
      ],
      "source": [
        "song = df[~df['rating'].str.contains('\\*', na = False)]\n",
        "song = song.loc[1:, ['album', 'all_songs', 'all_song_ratings']].reset_index(drop = True)\n",
        "song.head()"
      ]
    },
    {
      "cell_type": "markdown",
      "metadata": {
        "id": "xcqtEVZ3PmA5"
      },
      "source": [
        "#### Cleaning `all_songs`"
      ]
    },
    {
      "cell_type": "markdown",
      "metadata": {
        "id": "vr6YAc3bCPCv"
      },
      "source": [
        "To demonstrate the text cleaning, I will show an example of the unstructured text data from Marvin Gaye's \"I Want You\". Notice the following inconsistencies:\n",
        "1. All songs and song lengths are bundled in a single line of text.\n",
        "2. Inconsistent amount of `\\t`'s between the name of song and the length of song\n",
        "3. The song \"After The Dance (Instrumental)\" is formatted like `After The Dance \\t\\t4:21\\n(Instrumental)` because the song name was too long to fit in a single line on the Google Slide.\n",
        "\n",
        "While the inconsistencies are annoying, at least they are (mostly) consistent across the entire Google Slide. "
      ]
    },
    {
      "cell_type": "code",
      "execution_count": 172,
      "metadata": {
        "colab": {
          "base_uri": "https://localhost:8080/",
          "height": 71
        },
        "id": "_h7NSfi22yJ9",
        "outputId": "75085e6a-6be4-463e-ab61-8d87ba9527c4"
      },
      "outputs": [
        {
          "data": {
            "text/plain": [
              "'I Want You (Vocal)\\t\\t4:35\\nCome Live With Me Angel\\t6:28\\nAfter The Dance \\t\\t4:21\\n(Instrumental)\\nFeel All My Love Inside\\t3:23\\nI Wanna Be Where You Are\\t1:17\\nI Want You (Intro Jam)\\t0:20\\nAll The Way Around\\t\\t3:45\\nSince I Had You\\t\\t4:05\\nSoon I’ll Be Loving \\t\\t3:16\\nYou Again\\t\\nI Want You (Intro Jam)\\t1:36\\nAfter The Dance (Vocal)\\t4:40'"
            ]
          },
          "execution_count": 172,
          "metadata": {},
          "output_type": "execute_result"
        }
      ],
      "source": [
        "marvin_gaye_songs = song[song['album'] == 'I Want You']['all_songs'].squeeze()\n",
        "marvin_gaye_songs"
      ]
    },
    {
      "cell_type": "markdown",
      "metadata": {},
      "source": [
        "I want to separate each song name and song length into their own row. "
      ]
    },
    {
      "cell_type": "code",
      "execution_count": 173,
      "metadata": {
        "id": "3xFHPFFh6R15"
      },
      "outputs": [],
      "source": [
        "import re\n",
        "def parse_song_text(text, album):\n",
        "  # Splitting at each new line\n",
        "  lines = [line.strip() for line in text.split('\\n') if line.strip()]\n",
        "\n",
        "  # Initializing columns\n",
        "  song_name = []\n",
        "  song_length = []\n",
        "\n",
        "  # iterate through each line\n",
        "  for line in lines:\n",
        "    # RegEx pattern to group song name and song length\n",
        "    match = re.match(r'(.+?)\\s+(\\d{1,3}:\\d{2})$', line)\n",
        "\n",
        "    # if there is a match, then we have both the name and length of song\n",
        "    if match:\n",
        "      song_length.append(match.groups()[1])\n",
        "      song_name.append(match.groups()[0])\n",
        "\n",
        "    # if not, then the song name is split across lines\n",
        "    # we need to edit the previous text data to append the rest of the song name\n",
        "    else:\n",
        "      song_name[len(song_name)-1] = song_name[len(song_name)-1] + ' ' + line\n",
        "\n",
        "  # creating output as a dataframe\n",
        "  result = pd.DataFrame({'album': album, 'name': song_name, 'length': song_length})\n",
        "  # converting song length to timedelta object\n",
        "  result['length'] = result['length'].apply(lambda x: timedelta(\n",
        "      minutes = int(x[:x.find(':')]),\n",
        "      seconds = int(x[x.find(':') + 1:])))\n",
        "\n",
        "  return result"
      ]
    },
    {
      "cell_type": "markdown",
      "metadata": {
        "id": "gEsTp6e_9nJC"
      },
      "source": [
        "I will showcase below what the above function does with some sample code from the function. The first line of text data reads `I Want You (Vocal)\\t\\t4:35`. We can separate the song `I Want You (Vocal)` from its length of `4:35` into separate groups using RegEx patterns."
      ]
    },
    {
      "cell_type": "code",
      "execution_count": 174,
      "metadata": {
        "colab": {
          "base_uri": "https://localhost:8080/"
        },
        "id": "1G4It-9TBWTq",
        "outputId": "8abd210e-6e81-4e73-f3c9-9a886027cd43"
      },
      "outputs": [
        {
          "name": "stdout",
          "output_type": "stream",
          "text": [
            "['I Want You (Vocal)\\t\\t4:35', 'Come Live With Me Angel\\t6:28', 'After The Dance \\t\\t4:21', '(Instrumental)', 'Feel All My Love Inside\\t3:23', 'I Wanna Be Where You Are\\t1:17', 'I Want You (Intro Jam)\\t0:20', 'All The Way Around\\t\\t3:45', 'Since I Had You\\t\\t4:05', 'Soon I’ll Be Loving \\t\\t3:16', 'You Again', 'I Want You (Intro Jam)\\t1:36', 'After The Dance (Vocal)\\t4:40']\n"
          ]
        },
        {
          "data": {
            "text/plain": [
              "('I Want You (Vocal)', '4:35')"
            ]
          },
          "execution_count": 174,
          "metadata": {},
          "output_type": "execute_result"
        }
      ],
      "source": [
        "lines = [line.strip() for line in marvin_gaye_songs.split('\\n') if line.strip()]\n",
        "print(lines)\n",
        "match = re.match(r\"(.+?)\\s+(\\d{1,3}:\\d{2})$\", lines[0])\n",
        "(match.groups())"
      ]
    },
    {
      "cell_type": "code",
      "execution_count": 175,
      "metadata": {
        "colab": {
          "base_uri": "https://localhost:8080/",
          "height": 363
        },
        "id": "umJqdvxG6vGQ",
        "outputId": "fd50e602-ad99-4edd-def4-25c7b986cfc6"
      },
      "outputs": [
        {
          "data": {
            "text/html": [
              "<div>\n",
              "<style scoped>\n",
              "    .dataframe tbody tr th:only-of-type {\n",
              "        vertical-align: middle;\n",
              "    }\n",
              "\n",
              "    .dataframe tbody tr th {\n",
              "        vertical-align: top;\n",
              "    }\n",
              "\n",
              "    .dataframe thead th {\n",
              "        text-align: right;\n",
              "    }\n",
              "</style>\n",
              "<table border=\"1\" class=\"dataframe\">\n",
              "  <thead>\n",
              "    <tr style=\"text-align: right;\">\n",
              "      <th></th>\n",
              "      <th>album</th>\n",
              "      <th>name</th>\n",
              "      <th>length</th>\n",
              "    </tr>\n",
              "  </thead>\n",
              "  <tbody>\n",
              "    <tr>\n",
              "      <th>0</th>\n",
              "      <td>I Want You</td>\n",
              "      <td>I Want You (Vocal)</td>\n",
              "      <td>0 days 00:04:35</td>\n",
              "    </tr>\n",
              "    <tr>\n",
              "      <th>1</th>\n",
              "      <td>I Want You</td>\n",
              "      <td>Come Live With Me Angel</td>\n",
              "      <td>0 days 00:06:28</td>\n",
              "    </tr>\n",
              "    <tr>\n",
              "      <th>2</th>\n",
              "      <td>I Want You</td>\n",
              "      <td>After The Dance (Instrumental)</td>\n",
              "      <td>0 days 00:04:21</td>\n",
              "    </tr>\n",
              "    <tr>\n",
              "      <th>3</th>\n",
              "      <td>I Want You</td>\n",
              "      <td>Feel All My Love Inside</td>\n",
              "      <td>0 days 00:03:23</td>\n",
              "    </tr>\n",
              "    <tr>\n",
              "      <th>4</th>\n",
              "      <td>I Want You</td>\n",
              "      <td>I Wanna Be Where You Are</td>\n",
              "      <td>0 days 00:01:17</td>\n",
              "    </tr>\n",
              "    <tr>\n",
              "      <th>5</th>\n",
              "      <td>I Want You</td>\n",
              "      <td>I Want You (Intro Jam)</td>\n",
              "      <td>0 days 00:00:20</td>\n",
              "    </tr>\n",
              "    <tr>\n",
              "      <th>6</th>\n",
              "      <td>I Want You</td>\n",
              "      <td>All The Way Around</td>\n",
              "      <td>0 days 00:03:45</td>\n",
              "    </tr>\n",
              "    <tr>\n",
              "      <th>7</th>\n",
              "      <td>I Want You</td>\n",
              "      <td>Since I Had You</td>\n",
              "      <td>0 days 00:04:05</td>\n",
              "    </tr>\n",
              "    <tr>\n",
              "      <th>8</th>\n",
              "      <td>I Want You</td>\n",
              "      <td>Soon I’ll Be Loving You Again</td>\n",
              "      <td>0 days 00:03:16</td>\n",
              "    </tr>\n",
              "    <tr>\n",
              "      <th>9</th>\n",
              "      <td>I Want You</td>\n",
              "      <td>I Want You (Intro Jam)</td>\n",
              "      <td>0 days 00:01:36</td>\n",
              "    </tr>\n",
              "    <tr>\n",
              "      <th>10</th>\n",
              "      <td>I Want You</td>\n",
              "      <td>After The Dance (Vocal)</td>\n",
              "      <td>0 days 00:04:40</td>\n",
              "    </tr>\n",
              "  </tbody>\n",
              "</table>\n",
              "</div>"
            ],
            "text/plain": [
              "         album                            name          length\n",
              "0   I Want You              I Want You (Vocal) 0 days 00:04:35\n",
              "1   I Want You         Come Live With Me Angel 0 days 00:06:28\n",
              "2   I Want You  After The Dance (Instrumental) 0 days 00:04:21\n",
              "3   I Want You         Feel All My Love Inside 0 days 00:03:23\n",
              "4   I Want You        I Wanna Be Where You Are 0 days 00:01:17\n",
              "5   I Want You          I Want You (Intro Jam) 0 days 00:00:20\n",
              "6   I Want You              All The Way Around 0 days 00:03:45\n",
              "7   I Want You                 Since I Had You 0 days 00:04:05\n",
              "8   I Want You   Soon I’ll Be Loving You Again 0 days 00:03:16\n",
              "9   I Want You          I Want You (Intro Jam) 0 days 00:01:36\n",
              "10  I Want You         After The Dance (Vocal) 0 days 00:04:40"
            ]
          },
          "execution_count": 175,
          "metadata": {},
          "output_type": "execute_result"
        }
      ],
      "source": [
        "parse_song_text(marvin_gaye_songs, 'I Want You')"
      ]
    },
    {
      "cell_type": "markdown",
      "metadata": {
        "id": "45h5QCilI9eG"
      },
      "source": [
        "With that we now need to do this for EACH album."
      ]
    },
    {
      "cell_type": "code",
      "execution_count": 176,
      "metadata": {
        "id": "YiV6R-2lJC8c"
      },
      "outputs": [],
      "source": [
        "def expand_songs(df):\n",
        "  all_songs = []\n",
        "  # iterating through each row\n",
        "  # while iteration is typically not advised, I am working with relatively small data\n",
        "  for _, row in df.iterrows():\n",
        "    album_songs = parse_song_text(row['all_songs'], row['album'])\n",
        "    all_songs.append(album_songs)\n",
        "\n",
        "  # all rows for all albums in a single column\n",
        "  return pd.concat(all_songs, ignore_index=True)"
      ]
    },
    {
      "cell_type": "code",
      "execution_count": 177,
      "metadata": {
        "colab": {
          "base_uri": "https://localhost:8080/",
          "height": 424
        },
        "id": "iD4VDHwn95F6",
        "outputId": "15645c13-a93d-49f5-dd55-0c0afa3392aa"
      },
      "outputs": [
        {
          "data": {
            "text/html": [
              "<div>\n",
              "<style scoped>\n",
              "    .dataframe tbody tr th:only-of-type {\n",
              "        vertical-align: middle;\n",
              "    }\n",
              "\n",
              "    .dataframe tbody tr th {\n",
              "        vertical-align: top;\n",
              "    }\n",
              "\n",
              "    .dataframe thead th {\n",
              "        text-align: right;\n",
              "    }\n",
              "</style>\n",
              "<table border=\"1\" class=\"dataframe\">\n",
              "  <thead>\n",
              "    <tr style=\"text-align: right;\">\n",
              "      <th></th>\n",
              "      <th>album</th>\n",
              "      <th>name</th>\n",
              "      <th>length</th>\n",
              "    </tr>\n",
              "  </thead>\n",
              "  <tbody>\n",
              "    <tr>\n",
              "      <th>0</th>\n",
              "      <td>Rock Doido</td>\n",
              "      <td>Essa Noite Eu Vou Pro Rock</td>\n",
              "      <td>0 days 00:01:13</td>\n",
              "    </tr>\n",
              "    <tr>\n",
              "      <th>1</th>\n",
              "      <td>Rock Doido</td>\n",
              "      <td>Arrume-se Comigo</td>\n",
              "      <td>0 days 00:01:20</td>\n",
              "    </tr>\n",
              "    <tr>\n",
              "      <th>2</th>\n",
              "      <td>Rock Doido</td>\n",
              "      <td>Short Beira Cu</td>\n",
              "      <td>0 days 00:02:16</td>\n",
              "    </tr>\n",
              "    <tr>\n",
              "      <th>3</th>\n",
              "      <td>Rock Doido</td>\n",
              "      <td>Mamãe Mandou</td>\n",
              "      <td>0 days 00:01:28</td>\n",
              "    </tr>\n",
              "    <tr>\n",
              "      <th>4</th>\n",
              "      <td>Rock Doido</td>\n",
              "      <td>Te Amo Fudido</td>\n",
              "      <td>0 days 00:02:43</td>\n",
              "    </tr>\n",
              "    <tr>\n",
              "      <th>...</th>\n",
              "      <td>...</td>\n",
              "      <td>...</td>\n",
              "      <td>...</td>\n",
              "    </tr>\n",
              "    <tr>\n",
              "      <th>1183</th>\n",
              "      <td>Samba Esquema Novo</td>\n",
              "      <td>Quero Esquecer Você</td>\n",
              "      <td>0 days 00:02:22</td>\n",
              "    </tr>\n",
              "    <tr>\n",
              "      <th>1184</th>\n",
              "      <td>Samba Esquema Novo</td>\n",
              "      <td>Uála Uálalá</td>\n",
              "      <td>0 days 00:02:08</td>\n",
              "    </tr>\n",
              "    <tr>\n",
              "      <th>1185</th>\n",
              "      <td>Samba Esquema Novo</td>\n",
              "      <td>A Tamba</td>\n",
              "      <td>0 days 00:03:04</td>\n",
              "    </tr>\n",
              "    <tr>\n",
              "      <th>1186</th>\n",
              "      <td>Samba Esquema Novo</td>\n",
              "      <td>Menina Bonita Não Chora</td>\n",
              "      <td>0 days 00:02:07</td>\n",
              "    </tr>\n",
              "    <tr>\n",
              "      <th>1187</th>\n",
              "      <td>Samba Esquema Novo</td>\n",
              "      <td>Por Causa De Você</td>\n",
              "      <td>0 days 00:02:47</td>\n",
              "    </tr>\n",
              "  </tbody>\n",
              "</table>\n",
              "<p>1188 rows × 3 columns</p>\n",
              "</div>"
            ],
            "text/plain": [
              "                   album                        name          length\n",
              "0             Rock Doido  Essa Noite Eu Vou Pro Rock 0 days 00:01:13\n",
              "1             Rock Doido            Arrume-se Comigo 0 days 00:01:20\n",
              "2             Rock Doido              Short Beira Cu 0 days 00:02:16\n",
              "3             Rock Doido                Mamãe Mandou 0 days 00:01:28\n",
              "4             Rock Doido               Te Amo Fudido 0 days 00:02:43\n",
              "...                  ...                         ...             ...\n",
              "1183  Samba Esquema Novo         Quero Esquecer Você 0 days 00:02:22\n",
              "1184  Samba Esquema Novo                 Uála Uálalá 0 days 00:02:08\n",
              "1185  Samba Esquema Novo                     A Tamba 0 days 00:03:04\n",
              "1186  Samba Esquema Novo     Menina Bonita Não Chora 0 days 00:02:07\n",
              "1187  Samba Esquema Novo           Por Causa De Você 0 days 00:02:47\n",
              "\n",
              "[1188 rows x 3 columns]"
            ]
          },
          "execution_count": 177,
          "metadata": {},
          "output_type": "execute_result"
        }
      ],
      "source": [
        "name_length = expand_songs(song)\n",
        "name_length"
      ]
    },
    {
      "cell_type": "code",
      "execution_count": 178,
      "metadata": {
        "colab": {
          "base_uri": "https://localhost:8080/"
        },
        "id": "2i6CZZdEk8Ab",
        "outputId": "7af15da0-f98a-4172-f98a-86029d656de0"
      },
      "outputs": [
        {
          "data": {
            "text/plain": [
              "1188"
            ]
          },
          "execution_count": 178,
          "metadata": {},
          "output_type": "execute_result"
        }
      ],
      "source": [
        "album['num_songs'].sum()"
      ]
    },
    {
      "cell_type": "markdown",
      "metadata": {
        "id": "4TQ2vMJELn7i"
      },
      "source": [
        "The line `album['num_songs'].sum()` gives us the total number of songs according to the album dataframe. Notice that it matches with the length of the dataframe we just created. We now have a dataframe with the name and length of the song. Next step is to get the ratings."
      ]
    },
    {
      "cell_type": "markdown",
      "metadata": {
        "id": "mnjukajiPt6O"
      },
      "source": [
        "#### Cleaning `all_song_ratings`"
      ]
    },
    {
      "cell_type": "markdown",
      "metadata": {},
      "source": [
        "Now we clean the text data containing the ratings of each song. This is comparatively simple to the previous section. Each `\\n` represents a new song. There will be some interludes I have to consider."
      ]
    },
    {
      "cell_type": "code",
      "execution_count": 179,
      "metadata": {
        "colab": {
          "base_uri": "https://localhost:8080/",
          "height": 35
        },
        "id": "DdRMswYiy0Ql",
        "outputId": "25f0fc4d-c07a-4335-b740-f508d8ede7c3"
      },
      "outputs": [
        {
          "data": {
            "text/plain": [
              "'⭑⭑⭑⭑⭑\\n⭑⭑⭑⭑\\n⭑⭑⭑\\n\\n⭑⭑⭑\\n⭑⭑⭑⭑\\n(interlude)\\n⭑⭑⭑⭑⭑\\n⭑⭑⭑\\n⭑⭑⭑⭑⭑\\n\\n⭑⭑⭑⭑\\n⭑⭑⭑⭑'"
            ]
          },
          "execution_count": 179,
          "metadata": {},
          "output_type": "execute_result"
        }
      ],
      "source": [
        "marving_gaye_ratings = song.loc[song['album'] == 'I Want You', 'all_song_ratings'].squeeze()\n",
        "marving_gaye_ratings"
      ]
    },
    {
      "cell_type": "code",
      "execution_count": 180,
      "metadata": {
        "id": "_EE9WrDULnRl"
      },
      "outputs": [],
      "source": [
        "def parse_rating_text(text):\n",
        "  # splitting each line\n",
        "  lines = [line.strip() for line in text.split('\\n') if len(line.strip()) > 0]\n",
        "  rating = []\n",
        "\n",
        "  # looking for stars in each line\n",
        "  for line in lines:\n",
        "    # if not then this means it is an interlude/ unrated song\n",
        "    if line.find('⭑') == -1:\n",
        "      rating.append(-1)\n",
        "\n",
        "    # if there are stars then the number of stars is the rating\n",
        "    else:\n",
        "      rating.append(len(line))\n",
        "\n",
        "  return pd.DataFrame({'rating': rating})"
      ]
    },
    {
      "cell_type": "code",
      "execution_count": 181,
      "metadata": {
        "colab": {
          "base_uri": "https://localhost:8080/",
          "height": 363
        },
        "id": "DOkIfasi0aK_",
        "outputId": "305bfc16-60d2-4e8a-baf9-0318d7ecdb1b"
      },
      "outputs": [
        {
          "data": {
            "text/html": [
              "<div>\n",
              "<style scoped>\n",
              "    .dataframe tbody tr th:only-of-type {\n",
              "        vertical-align: middle;\n",
              "    }\n",
              "\n",
              "    .dataframe tbody tr th {\n",
              "        vertical-align: top;\n",
              "    }\n",
              "\n",
              "    .dataframe thead th {\n",
              "        text-align: right;\n",
              "    }\n",
              "</style>\n",
              "<table border=\"1\" class=\"dataframe\">\n",
              "  <thead>\n",
              "    <tr style=\"text-align: right;\">\n",
              "      <th></th>\n",
              "      <th>rating</th>\n",
              "    </tr>\n",
              "  </thead>\n",
              "  <tbody>\n",
              "    <tr>\n",
              "      <th>0</th>\n",
              "      <td>5</td>\n",
              "    </tr>\n",
              "    <tr>\n",
              "      <th>1</th>\n",
              "      <td>4</td>\n",
              "    </tr>\n",
              "    <tr>\n",
              "      <th>2</th>\n",
              "      <td>3</td>\n",
              "    </tr>\n",
              "    <tr>\n",
              "      <th>3</th>\n",
              "      <td>3</td>\n",
              "    </tr>\n",
              "    <tr>\n",
              "      <th>4</th>\n",
              "      <td>4</td>\n",
              "    </tr>\n",
              "    <tr>\n",
              "      <th>5</th>\n",
              "      <td>-1</td>\n",
              "    </tr>\n",
              "    <tr>\n",
              "      <th>6</th>\n",
              "      <td>5</td>\n",
              "    </tr>\n",
              "    <tr>\n",
              "      <th>7</th>\n",
              "      <td>3</td>\n",
              "    </tr>\n",
              "    <tr>\n",
              "      <th>8</th>\n",
              "      <td>5</td>\n",
              "    </tr>\n",
              "    <tr>\n",
              "      <th>9</th>\n",
              "      <td>4</td>\n",
              "    </tr>\n",
              "    <tr>\n",
              "      <th>10</th>\n",
              "      <td>4</td>\n",
              "    </tr>\n",
              "  </tbody>\n",
              "</table>\n",
              "</div>"
            ],
            "text/plain": [
              "    rating\n",
              "0        5\n",
              "1        4\n",
              "2        3\n",
              "3        3\n",
              "4        4\n",
              "5       -1\n",
              "6        5\n",
              "7        3\n",
              "8        5\n",
              "9        4\n",
              "10       4"
            ]
          },
          "execution_count": 181,
          "metadata": {},
          "output_type": "execute_result"
        }
      ],
      "source": [
        "parse_rating_text(marving_gaye_ratings)"
      ]
    },
    {
      "cell_type": "code",
      "execution_count": 182,
      "metadata": {
        "id": "DfOcdYWG1RFK"
      },
      "outputs": [],
      "source": [
        "def expand_ratings(df):\n",
        "  all_ratings = []\n",
        "  # iterating through each row\n",
        "  # while this is typically not advised, I am working with relatively small data\n",
        "  for _, row in df.iterrows():\n",
        "    album_songs = parse_rating_text(row['all_song_ratings'])\n",
        "    all_ratings.append(album_songs)\n",
        "\n",
        "  # all rows for all albums in a single column\n",
        "  return pd.concat(all_ratings, ignore_index=True)"
      ]
    },
    {
      "cell_type": "code",
      "execution_count": 183,
      "metadata": {
        "colab": {
          "base_uri": "https://localhost:8080/",
          "height": 424
        },
        "id": "6Abu3Fwc1gMA",
        "outputId": "7ca4ce8b-6b4a-4e97-8ae4-249889de636c"
      },
      "outputs": [
        {
          "data": {
            "text/html": [
              "<div>\n",
              "<style scoped>\n",
              "    .dataframe tbody tr th:only-of-type {\n",
              "        vertical-align: middle;\n",
              "    }\n",
              "\n",
              "    .dataframe tbody tr th {\n",
              "        vertical-align: top;\n",
              "    }\n",
              "\n",
              "    .dataframe thead th {\n",
              "        text-align: right;\n",
              "    }\n",
              "</style>\n",
              "<table border=\"1\" class=\"dataframe\">\n",
              "  <thead>\n",
              "    <tr style=\"text-align: right;\">\n",
              "      <th></th>\n",
              "      <th>rating</th>\n",
              "    </tr>\n",
              "  </thead>\n",
              "  <tbody>\n",
              "    <tr>\n",
              "      <th>0</th>\n",
              "      <td>2</td>\n",
              "    </tr>\n",
              "    <tr>\n",
              "      <th>1</th>\n",
              "      <td>4</td>\n",
              "    </tr>\n",
              "    <tr>\n",
              "      <th>2</th>\n",
              "      <td>4</td>\n",
              "    </tr>\n",
              "    <tr>\n",
              "      <th>3</th>\n",
              "      <td>3</td>\n",
              "    </tr>\n",
              "    <tr>\n",
              "      <th>4</th>\n",
              "      <td>2</td>\n",
              "    </tr>\n",
              "    <tr>\n",
              "      <th>...</th>\n",
              "      <td>...</td>\n",
              "    </tr>\n",
              "    <tr>\n",
              "      <th>1183</th>\n",
              "      <td>4</td>\n",
              "    </tr>\n",
              "    <tr>\n",
              "      <th>1184</th>\n",
              "      <td>3</td>\n",
              "    </tr>\n",
              "    <tr>\n",
              "      <th>1185</th>\n",
              "      <td>3</td>\n",
              "    </tr>\n",
              "    <tr>\n",
              "      <th>1186</th>\n",
              "      <td>4</td>\n",
              "    </tr>\n",
              "    <tr>\n",
              "      <th>1187</th>\n",
              "      <td>4</td>\n",
              "    </tr>\n",
              "  </tbody>\n",
              "</table>\n",
              "<p>1188 rows × 1 columns</p>\n",
              "</div>"
            ],
            "text/plain": [
              "      rating\n",
              "0          2\n",
              "1          4\n",
              "2          4\n",
              "3          3\n",
              "4          2\n",
              "...      ...\n",
              "1183       4\n",
              "1184       3\n",
              "1185       3\n",
              "1186       4\n",
              "1187       4\n",
              "\n",
              "[1188 rows x 1 columns]"
            ]
          },
          "execution_count": 183,
          "metadata": {},
          "output_type": "execute_result"
        }
      ],
      "source": [
        "ratings = expand_ratings(song)\n",
        "ratings"
      ]
    },
    {
      "cell_type": "markdown",
      "metadata": {
        "id": "EGq9tNe5xpw9"
      },
      "source": [
        "### Join Clean Dataframes\n",
        "\n",
        "Now that we have cleaned the name/length text data and the rating text data, a final dataframe is ready to be combined. I will create two dataframes:\n",
        "1. Contains all songs (including interludes/unrated songs)\n",
        "2. Contains only songs I have rated"
      ]
    },
    {
      "cell_type": "code",
      "execution_count": 184,
      "metadata": {
        "id": "OnKfI_XrxnWJ"
      },
      "outputs": [],
      "source": [
        "song = pd.concat([name_length, ratings], axis = 1)  # merging dataframes\n",
        "all_song = song[['album', 'name', 'length', 'rating']]\n",
        "song = song.loc[song['rating'] != -1, ['album', 'name', 'length', 'rating']].reset_index(drop = True)"
      ]
    },
    {
      "cell_type": "markdown",
      "metadata": {},
      "source": [
        "Here are all the tracks I did not rate."
      ]
    },
    {
      "cell_type": "code",
      "execution_count": 185,
      "metadata": {
        "colab": {
          "base_uri": "https://localhost:8080/",
          "height": 708
        },
        "id": "XGcq9tce2YH7",
        "outputId": "489e604f-25a7-4be8-da7b-8f3185e6221b"
      },
      "outputs": [
        {
          "data": {
            "text/html": [
              "<div>\n",
              "<style scoped>\n",
              "    .dataframe tbody tr th:only-of-type {\n",
              "        vertical-align: middle;\n",
              "    }\n",
              "\n",
              "    .dataframe tbody tr th {\n",
              "        vertical-align: top;\n",
              "    }\n",
              "\n",
              "    .dataframe thead th {\n",
              "        text-align: right;\n",
              "    }\n",
              "</style>\n",
              "<table border=\"1\" class=\"dataframe\">\n",
              "  <thead>\n",
              "    <tr style=\"text-align: right;\">\n",
              "      <th></th>\n",
              "      <th>album</th>\n",
              "      <th>name</th>\n",
              "      <th>length</th>\n",
              "      <th>rating</th>\n",
              "    </tr>\n",
              "  </thead>\n",
              "  <tbody>\n",
              "    <tr>\n",
              "      <th>6</th>\n",
              "      <td>Rock Doido</td>\n",
              "      <td>Interlúdio Égua Mana</td>\n",
              "      <td>0 days 00:00:36</td>\n",
              "      <td>-1</td>\n",
              "    </tr>\n",
              "    <tr>\n",
              "      <th>13</th>\n",
              "      <td>Rock Doido</td>\n",
              "      <td>Interlúdio Rock Doido</td>\n",
              "      <td>0 days 00:00:30</td>\n",
              "      <td>-1</td>\n",
              "    </tr>\n",
              "    <tr>\n",
              "      <th>77</th>\n",
              "      <td>Hellfire</td>\n",
              "      <td>Half Time</td>\n",
              "      <td>0 days 00:00:26</td>\n",
              "      <td>-1</td>\n",
              "    </tr>\n",
              "    <tr>\n",
              "      <th>108</th>\n",
              "      <td>Serotonin II</td>\n",
              "      <td>See You Space Cowboy</td>\n",
              "      <td>0 days 00:01:15</td>\n",
              "      <td>-1</td>\n",
              "    </tr>\n",
              "    <tr>\n",
              "      <th>110</th>\n",
              "      <td>Serotonin II</td>\n",
              "      <td>Nuclear War Post IV</td>\n",
              "      <td>0 days 00:00:50</td>\n",
              "      <td>-1</td>\n",
              "    </tr>\n",
              "    <tr>\n",
              "      <th>136</th>\n",
              "      <td>Those Who Throw Objects At The Crocodiles Will...</td>\n",
              "      <td>Poem (1)</td>\n",
              "      <td>0 days 00:00:27</td>\n",
              "      <td>-1</td>\n",
              "    </tr>\n",
              "    <tr>\n",
              "      <th>141</th>\n",
              "      <td>Those Who Throw Objects At The Crocodiles Will...</td>\n",
              "      <td>Poem (2)</td>\n",
              "      <td>0 days 00:00:25</td>\n",
              "      <td>-1</td>\n",
              "    </tr>\n",
              "    <tr>\n",
              "      <th>288</th>\n",
              "      <td>The Campfire Headphase</td>\n",
              "      <td>Into The Rainbow Vein</td>\n",
              "      <td>0 days 00:00:44</td>\n",
              "      <td>-1</td>\n",
              "    </tr>\n",
              "    <tr>\n",
              "      <th>739</th>\n",
              "      <td>Orange</td>\n",
              "      <td>Intro</td>\n",
              "      <td>0 days 00:00:21</td>\n",
              "      <td>-1</td>\n",
              "    </tr>\n",
              "    <tr>\n",
              "      <th>748</th>\n",
              "      <td>CrazySexyCool</td>\n",
              "      <td>Intro-lude</td>\n",
              "      <td>0 days 00:01:01</td>\n",
              "      <td>-1</td>\n",
              "    </tr>\n",
              "    <tr>\n",
              "      <th>753</th>\n",
              "      <td>CrazySexyCool</td>\n",
              "      <td>CrazySexyCool - Interlude</td>\n",
              "      <td>0 days 00:01:42</td>\n",
              "      <td>-1</td>\n",
              "    </tr>\n",
              "    <tr>\n",
              "      <th>756</th>\n",
              "      <td>CrazySexyCool</td>\n",
              "      <td>Intermission-lude</td>\n",
              "      <td>0 days 00:00:42</td>\n",
              "      <td>-1</td>\n",
              "    </tr>\n",
              "    <tr>\n",
              "      <th>759</th>\n",
              "      <td>CrazySexyCool</td>\n",
              "      <td>Sexy - Interlude</td>\n",
              "      <td>0 days 00:01:35</td>\n",
              "      <td>-1</td>\n",
              "    </tr>\n",
              "    <tr>\n",
              "      <th>761</th>\n",
              "      <td>CrazySexyCool</td>\n",
              "      <td>Can I Get A Witness - Interlude</td>\n",
              "      <td>0 days 00:02:57</td>\n",
              "      <td>-1</td>\n",
              "    </tr>\n",
              "    <tr>\n",
              "      <th>829</th>\n",
              "      <td>3 Feet High and Rising</td>\n",
              "      <td>Cool Breeze On The Rocks</td>\n",
              "      <td>0 days 00:00:37</td>\n",
              "      <td>-1</td>\n",
              "    </tr>\n",
              "    <tr>\n",
              "      <th>1024</th>\n",
              "      <td>I Want You</td>\n",
              "      <td>I Want You (Intro Jam)</td>\n",
              "      <td>0 days 00:00:20</td>\n",
              "      <td>-1</td>\n",
              "    </tr>\n",
              "    <tr>\n",
              "      <th>1097</th>\n",
              "      <td>Clube Da Esquina</td>\n",
              "      <td>Saídas E Bandeiras Nᵒ 1</td>\n",
              "      <td>0 days 00:00:45</td>\n",
              "      <td>-1</td>\n",
              "    </tr>\n",
              "    <tr>\n",
              "      <th>1103</th>\n",
              "      <td>Clube Da Esquina</td>\n",
              "      <td>Estrelas</td>\n",
              "      <td>0 days 00:00:28</td>\n",
              "      <td>-1</td>\n",
              "    </tr>\n",
              "    <tr>\n",
              "      <th>1108</th>\n",
              "      <td>Clube Da Esquina</td>\n",
              "      <td>Saídas E Bandeiras Nᵒ 2</td>\n",
              "      <td>0 days 00:01:30</td>\n",
              "      <td>-1</td>\n",
              "    </tr>\n",
              "    <tr>\n",
              "      <th>1149</th>\n",
              "      <td>Hosianna Mantra</td>\n",
              "      <td>Andacht (Pt. 1)</td>\n",
              "      <td>0 days 00:00:47</td>\n",
              "      <td>-1</td>\n",
              "    </tr>\n",
              "    <tr>\n",
              "      <th>1151</th>\n",
              "      <td>Hosianna Mantra</td>\n",
              "      <td>Andacht (Pt. 2)</td>\n",
              "      <td>0 days 00:00:46</td>\n",
              "      <td>-1</td>\n",
              "    </tr>\n",
              "  </tbody>\n",
              "</table>\n",
              "</div>"
            ],
            "text/plain": [
              "                                                  album  \\\n",
              "6                                            Rock Doido   \n",
              "13                                           Rock Doido   \n",
              "77                                             Hellfire   \n",
              "108                                        Serotonin II   \n",
              "110                                        Serotonin II   \n",
              "136   Those Who Throw Objects At The Crocodiles Will...   \n",
              "141   Those Who Throw Objects At The Crocodiles Will...   \n",
              "288                              The Campfire Headphase   \n",
              "739                                              Orange   \n",
              "748                                       CrazySexyCool   \n",
              "753                                       CrazySexyCool   \n",
              "756                                       CrazySexyCool   \n",
              "759                                       CrazySexyCool   \n",
              "761                                       CrazySexyCool   \n",
              "829                              3 Feet High and Rising   \n",
              "1024                                         I Want You   \n",
              "1097                                   Clube Da Esquina   \n",
              "1103                                   Clube Da Esquina   \n",
              "1108                                   Clube Da Esquina   \n",
              "1149                                    Hosianna Mantra   \n",
              "1151                                    Hosianna Mantra   \n",
              "\n",
              "                                 name          length  rating  \n",
              "6                Interlúdio Égua Mana 0 days 00:00:36      -1  \n",
              "13              Interlúdio Rock Doido 0 days 00:00:30      -1  \n",
              "77                          Half Time 0 days 00:00:26      -1  \n",
              "108              See You Space Cowboy 0 days 00:01:15      -1  \n",
              "110               Nuclear War Post IV 0 days 00:00:50      -1  \n",
              "136                          Poem (1) 0 days 00:00:27      -1  \n",
              "141                          Poem (2) 0 days 00:00:25      -1  \n",
              "288             Into The Rainbow Vein 0 days 00:00:44      -1  \n",
              "739                             Intro 0 days 00:00:21      -1  \n",
              "748                        Intro-lude 0 days 00:01:01      -1  \n",
              "753         CrazySexyCool - Interlude 0 days 00:01:42      -1  \n",
              "756                 Intermission-lude 0 days 00:00:42      -1  \n",
              "759                  Sexy - Interlude 0 days 00:01:35      -1  \n",
              "761   Can I Get A Witness - Interlude 0 days 00:02:57      -1  \n",
              "829          Cool Breeze On The Rocks 0 days 00:00:37      -1  \n",
              "1024           I Want You (Intro Jam) 0 days 00:00:20      -1  \n",
              "1097          Saídas E Bandeiras Nᵒ 1 0 days 00:00:45      -1  \n",
              "1103                         Estrelas 0 days 00:00:28      -1  \n",
              "1108          Saídas E Bandeiras Nᵒ 2 0 days 00:01:30      -1  \n",
              "1149                  Andacht (Pt. 1) 0 days 00:00:47      -1  \n",
              "1151                  Andacht (Pt. 2) 0 days 00:00:46      -1  "
            ]
          },
          "execution_count": 185,
          "metadata": {},
          "output_type": "execute_result"
        }
      ],
      "source": [
        "all_song[all_song['rating'] == -1]"
      ]
    },
    {
      "cell_type": "markdown",
      "metadata": {},
      "source": [
        "Here is the final dataframe!"
      ]
    },
    {
      "cell_type": "code",
      "execution_count": 186,
      "metadata": {
        "colab": {
          "base_uri": "https://localhost:8080/",
          "height": 424
        },
        "id": "dHc6mKAm2aG4",
        "outputId": "367e4d54-8e0a-421b-be07-c9f9ea950c28"
      },
      "outputs": [
        {
          "data": {
            "text/html": [
              "<div>\n",
              "<style scoped>\n",
              "    .dataframe tbody tr th:only-of-type {\n",
              "        vertical-align: middle;\n",
              "    }\n",
              "\n",
              "    .dataframe tbody tr th {\n",
              "        vertical-align: top;\n",
              "    }\n",
              "\n",
              "    .dataframe thead th {\n",
              "        text-align: right;\n",
              "    }\n",
              "</style>\n",
              "<table border=\"1\" class=\"dataframe\">\n",
              "  <thead>\n",
              "    <tr style=\"text-align: right;\">\n",
              "      <th></th>\n",
              "      <th>album</th>\n",
              "      <th>name</th>\n",
              "      <th>length</th>\n",
              "      <th>rating</th>\n",
              "    </tr>\n",
              "  </thead>\n",
              "  <tbody>\n",
              "    <tr>\n",
              "      <th>0</th>\n",
              "      <td>Rock Doido</td>\n",
              "      <td>Essa Noite Eu Vou Pro Rock</td>\n",
              "      <td>0 days 00:01:13</td>\n",
              "      <td>2</td>\n",
              "    </tr>\n",
              "    <tr>\n",
              "      <th>1</th>\n",
              "      <td>Rock Doido</td>\n",
              "      <td>Arrume-se Comigo</td>\n",
              "      <td>0 days 00:01:20</td>\n",
              "      <td>4</td>\n",
              "    </tr>\n",
              "    <tr>\n",
              "      <th>2</th>\n",
              "      <td>Rock Doido</td>\n",
              "      <td>Short Beira Cu</td>\n",
              "      <td>0 days 00:02:16</td>\n",
              "      <td>4</td>\n",
              "    </tr>\n",
              "    <tr>\n",
              "      <th>3</th>\n",
              "      <td>Rock Doido</td>\n",
              "      <td>Mamãe Mandou</td>\n",
              "      <td>0 days 00:01:28</td>\n",
              "      <td>3</td>\n",
              "    </tr>\n",
              "    <tr>\n",
              "      <th>4</th>\n",
              "      <td>Rock Doido</td>\n",
              "      <td>Te Amo Fudido</td>\n",
              "      <td>0 days 00:02:43</td>\n",
              "      <td>2</td>\n",
              "    </tr>\n",
              "    <tr>\n",
              "      <th>...</th>\n",
              "      <td>...</td>\n",
              "      <td>...</td>\n",
              "      <td>...</td>\n",
              "      <td>...</td>\n",
              "    </tr>\n",
              "    <tr>\n",
              "      <th>1162</th>\n",
              "      <td>Samba Esquema Novo</td>\n",
              "      <td>Quero Esquecer Você</td>\n",
              "      <td>0 days 00:02:22</td>\n",
              "      <td>4</td>\n",
              "    </tr>\n",
              "    <tr>\n",
              "      <th>1163</th>\n",
              "      <td>Samba Esquema Novo</td>\n",
              "      <td>Uála Uálalá</td>\n",
              "      <td>0 days 00:02:08</td>\n",
              "      <td>3</td>\n",
              "    </tr>\n",
              "    <tr>\n",
              "      <th>1164</th>\n",
              "      <td>Samba Esquema Novo</td>\n",
              "      <td>A Tamba</td>\n",
              "      <td>0 days 00:03:04</td>\n",
              "      <td>3</td>\n",
              "    </tr>\n",
              "    <tr>\n",
              "      <th>1165</th>\n",
              "      <td>Samba Esquema Novo</td>\n",
              "      <td>Menina Bonita Não Chora</td>\n",
              "      <td>0 days 00:02:07</td>\n",
              "      <td>4</td>\n",
              "    </tr>\n",
              "    <tr>\n",
              "      <th>1166</th>\n",
              "      <td>Samba Esquema Novo</td>\n",
              "      <td>Por Causa De Você</td>\n",
              "      <td>0 days 00:02:47</td>\n",
              "      <td>4</td>\n",
              "    </tr>\n",
              "  </tbody>\n",
              "</table>\n",
              "<p>1167 rows × 4 columns</p>\n",
              "</div>"
            ],
            "text/plain": [
              "                   album                        name          length  rating\n",
              "0             Rock Doido  Essa Noite Eu Vou Pro Rock 0 days 00:01:13       2\n",
              "1             Rock Doido            Arrume-se Comigo 0 days 00:01:20       4\n",
              "2             Rock Doido              Short Beira Cu 0 days 00:02:16       4\n",
              "3             Rock Doido                Mamãe Mandou 0 days 00:01:28       3\n",
              "4             Rock Doido               Te Amo Fudido 0 days 00:02:43       2\n",
              "...                  ...                         ...             ...     ...\n",
              "1162  Samba Esquema Novo         Quero Esquecer Você 0 days 00:02:22       4\n",
              "1163  Samba Esquema Novo                 Uála Uálalá 0 days 00:02:08       3\n",
              "1164  Samba Esquema Novo                     A Tamba 0 days 00:03:04       3\n",
              "1165  Samba Esquema Novo     Menina Bonita Não Chora 0 days 00:02:07       4\n",
              "1166  Samba Esquema Novo           Por Causa De Você 0 days 00:02:47       4\n",
              "\n",
              "[1167 rows x 4 columns]"
            ]
          },
          "execution_count": 186,
          "metadata": {},
          "output_type": "execute_result"
        }
      ],
      "source": [
        "song"
      ]
    },
    {
      "cell_type": "markdown",
      "metadata": {
        "id": "fs36eoUFBu_B"
      },
      "source": [
        "## Semantic Dataframe"
      ]
    },
    {
      "cell_type": "markdown",
      "metadata": {},
      "source": [
        "Because there is still text data on the Slide that isn't allocated into any dataframe and isn't very useful for analysis, I will separate it into its own dataframe. This is mainly for conventional purposes and I most likely won't be using this dataframe much."
      ]
    },
    {
      "cell_type": "code",
      "execution_count": 187,
      "metadata": {
        "colab": {
          "base_uri": "https://localhost:8080/",
          "height": 451
        },
        "id": "62rARDARL32-",
        "outputId": "dba1c3a3-54ee-4a89-f681-ab4c9a6f36eb"
      },
      "outputs": [
        {
          "data": {
            "text/html": [
              "<div>\n",
              "<style scoped>\n",
              "    .dataframe tbody tr th:only-of-type {\n",
              "        vertical-align: middle;\n",
              "    }\n",
              "\n",
              "    .dataframe tbody tr th {\n",
              "        vertical-align: top;\n",
              "    }\n",
              "\n",
              "    .dataframe thead th {\n",
              "        text-align: right;\n",
              "    }\n",
              "</style>\n",
              "<table border=\"1\" class=\"dataframe\">\n",
              "  <thead>\n",
              "    <tr style=\"text-align: right;\">\n",
              "      <th></th>\n",
              "      <th>album</th>\n",
              "      <th>caption</th>\n",
              "      <th>fav_song</th>\n",
              "      <th>recommend</th>\n",
              "      <th>superlative1</th>\n",
              "      <th>superlative2</th>\n",
              "    </tr>\n",
              "  </thead>\n",
              "  <tbody>\n",
              "    <tr>\n",
              "      <th>0</th>\n",
              "      <td>Rock Doido</td>\n",
              "      <td>“Whole album plays like a DJ set. Mix of Arabi...</td>\n",
              "      <td>Favorite Song\\nDá‑Lhe Sal</td>\n",
              "      <td>I Recommend\\nArrume-se Comigo</td>\n",
              "      <td>Hardest Beat\\nShort Beira Cu</td>\n",
              "      <td>Wish It Were Longer\\nCarregador De Aparelhagem</td>\n",
              "    </tr>\n",
              "    <tr>\n",
              "      <th>1</th>\n",
              "      <td>Let God Sort Em Out</td>\n",
              "      <td>“I feel like this should’ve blown my mind but ...</td>\n",
              "      <td>Favorite Song\\nE.B.I.T.D.A.</td>\n",
              "      <td>I Recommend\\nAce Trumpets</td>\n",
              "      <td>Honorable Mention\\nAll Things Considered</td>\n",
              "      <td>Hardest Beat\\nSo Be It</td>\n",
              "    </tr>\n",
              "    <tr>\n",
              "      <th>2</th>\n",
              "      <td>I Lay Down My Life For You</td>\n",
              "      <td>“Probably not my favorite JPEG album but some ...</td>\n",
              "      <td>Favorite Song\\nI'll Be Right There</td>\n",
              "      <td>I Recommend\\nEither On Or Off The Drugs</td>\n",
              "      <td>Honorable Mention\\nDon't Put Anything On The B...</td>\n",
              "      <td>Most Fun Song\\nIt's Dark And Hell Is Hot</td>\n",
              "    </tr>\n",
              "    <tr>\n",
              "      <th>3</th>\n",
              "      <td>Spectre</td>\n",
              "      <td>“Thank you Richard for recommending me this al...</td>\n",
              "      <td>Favorite Song\\nBlue Moon</td>\n",
              "      <td>I Recommend\\nクラゲ</td>\n",
              "      <td>Honorable Mention\\nCall Out</td>\n",
              "      <td>Best Finale\\nシンプルラブ</td>\n",
              "    </tr>\n",
              "    <tr>\n",
              "      <th>4</th>\n",
              "      <td>De Todas Las Flores</td>\n",
              "      <td>“Lafourcade is doing the world a favor by expo...</td>\n",
              "      <td>Favorite Song\\nMaría La Curandera</td>\n",
              "      <td>I Recommend\\nEl Lugar Correcto</td>\n",
              "      <td>Honorable Mention\\nPajarito Colibrí</td>\n",
              "      <td>Mas Triste\\nQue Te Vaya Bonito Nicolás</td>\n",
              "    </tr>\n",
              "  </tbody>\n",
              "</table>\n",
              "</div>"
            ],
            "text/plain": [
              "                        album  \\\n",
              "0                  Rock Doido   \n",
              "1         Let God Sort Em Out   \n",
              "2  I Lay Down My Life For You   \n",
              "3                     Spectre   \n",
              "4         De Todas Las Flores   \n",
              "\n",
              "                                             caption  \\\n",
              "0  “Whole album plays like a DJ set. Mix of Arabi...   \n",
              "1  “I feel like this should’ve blown my mind but ...   \n",
              "2  “Probably not my favorite JPEG album but some ...   \n",
              "3  “Thank you Richard for recommending me this al...   \n",
              "4  “Lafourcade is doing the world a favor by expo...   \n",
              "\n",
              "                             fav_song  \\\n",
              "0           Favorite Song\\nDá‑Lhe Sal   \n",
              "1         Favorite Song\\nE.B.I.T.D.A.   \n",
              "2  Favorite Song\\nI'll Be Right There   \n",
              "3            Favorite Song\\nBlue Moon   \n",
              "4   Favorite Song\\nMaría La Curandera   \n",
              "\n",
              "                                 recommend  \\\n",
              "0            I Recommend\\nArrume-se Comigo   \n",
              "1                I Recommend\\nAce Trumpets   \n",
              "2  I Recommend\\nEither On Or Off The Drugs   \n",
              "3                         I Recommend\\nクラゲ   \n",
              "4           I Recommend\\nEl Lugar Correcto   \n",
              "\n",
              "                                        superlative1  \\\n",
              "0                       Hardest Beat\\nShort Beira Cu   \n",
              "1           Honorable Mention\\nAll Things Considered   \n",
              "2  Honorable Mention\\nDon't Put Anything On The B...   \n",
              "3                        Honorable Mention\\nCall Out   \n",
              "4                Honorable Mention\\nPajarito Colibrí   \n",
              "\n",
              "                                     superlative2  \n",
              "0  Wish It Were Longer\\nCarregador De Aparelhagem  \n",
              "1                          Hardest Beat\\nSo Be It  \n",
              "2        Most Fun Song\\nIt's Dark And Hell Is Hot  \n",
              "3                             Best Finale\\nシンプルラブ  \n",
              "4          Mas Triste\\nQue Te Vaya Bonito Nicolás  "
            ]
          },
          "execution_count": 187,
          "metadata": {},
          "output_type": "execute_result"
        }
      ],
      "source": [
        "semantic = df[~df['rating'].str.contains('\\*', na = False)]\n",
        "semantic = semantic.loc[1:, ['album', 'caption', 'fav_song', 'recommend', 'superlative1', 'superlative2']].reset_index(drop = True)\n",
        "semantic.head()"
      ]
    },
    {
      "cell_type": "markdown",
      "metadata": {
        "id": "W3gum3fYMlh6"
      },
      "source": [
        "The steps needed to clean this dataset are\n",
        "1. Remove quotes from `caption`\n",
        "2. Clean `fav_song`\n",
        "3. Clean `recommend`\n",
        "4. Clean `superlative1`\n",
        "5. Clean `superlative2`\n",
        "\n",
        "I dont know how to deal with the superlatives. I can create 2 new columns that say the superlative title along with the song. I also have the option of emitting the superlative title all together. I am going to sleep on it until I want to run some analysis on it."
      ]
    },
    {
      "cell_type": "code",
      "execution_count": 188,
      "metadata": {
        "id": "uuW28S38MfGJ"
      },
      "outputs": [],
      "source": [
        "semantic['caption'] = semantic['caption'].apply(lambda x: x.strip()[1:-1])\n",
        "semantic['fav_song'] = semantic['fav_song'].apply(lambda x: x.split('\\n')[1])\n",
        "semantic['recommend'] = semantic['recommend'].apply(lambda x: x.split('\\n')[1])\n",
        "semantic['superlative1'] = semantic['superlative1'].apply(lambda x: x.split('\\n')[1])\n",
        "semantic['superlative2'] = semantic['superlative2'].apply(lambda x: x.split('\\n')[1])"
      ]
    },
    {
      "cell_type": "code",
      "execution_count": 189,
      "metadata": {
        "colab": {
          "base_uri": "https://localhost:8080/",
          "height": 293
        },
        "id": "tRUXu-I7OVZM",
        "outputId": "be80d50a-e58f-48da-f714-da429ed3caab"
      },
      "outputs": [
        {
          "data": {
            "text/html": [
              "<div>\n",
              "<style scoped>\n",
              "    .dataframe tbody tr th:only-of-type {\n",
              "        vertical-align: middle;\n",
              "    }\n",
              "\n",
              "    .dataframe tbody tr th {\n",
              "        vertical-align: top;\n",
              "    }\n",
              "\n",
              "    .dataframe thead th {\n",
              "        text-align: right;\n",
              "    }\n",
              "</style>\n",
              "<table border=\"1\" class=\"dataframe\">\n",
              "  <thead>\n",
              "    <tr style=\"text-align: right;\">\n",
              "      <th></th>\n",
              "      <th>album</th>\n",
              "      <th>caption</th>\n",
              "      <th>fav_song</th>\n",
              "      <th>recommend</th>\n",
              "      <th>superlative1</th>\n",
              "      <th>superlative2</th>\n",
              "    </tr>\n",
              "  </thead>\n",
              "  <tbody>\n",
              "    <tr>\n",
              "      <th>0</th>\n",
              "      <td>Rock Doido</td>\n",
              "      <td>Whole album plays like a DJ set. Mix of Arabic...</td>\n",
              "      <td>Dá‑Lhe Sal</td>\n",
              "      <td>Arrume-se Comigo</td>\n",
              "      <td>Short Beira Cu</td>\n",
              "      <td>Carregador De Aparelhagem</td>\n",
              "    </tr>\n",
              "    <tr>\n",
              "      <th>1</th>\n",
              "      <td>Let God Sort Em Out</td>\n",
              "      <td>I feel like this should’ve blown my mind but I...</td>\n",
              "      <td>E.B.I.T.D.A.</td>\n",
              "      <td>Ace Trumpets</td>\n",
              "      <td>All Things Considered</td>\n",
              "      <td>So Be It</td>\n",
              "    </tr>\n",
              "    <tr>\n",
              "      <th>2</th>\n",
              "      <td>I Lay Down My Life For You</td>\n",
              "      <td>Probably not my favorite JPEG album but some g...</td>\n",
              "      <td>I'll Be Right There</td>\n",
              "      <td>Either On Or Off The Drugs</td>\n",
              "      <td>Don't Put Anything On The Bible</td>\n",
              "      <td>It's Dark And Hell Is Hot</td>\n",
              "    </tr>\n",
              "    <tr>\n",
              "      <th>3</th>\n",
              "      <td>Spectre</td>\n",
              "      <td>Thank you Richard for recommending me this alb...</td>\n",
              "      <td>Blue Moon</td>\n",
              "      <td>クラゲ</td>\n",
              "      <td>Call Out</td>\n",
              "      <td>シンプルラブ</td>\n",
              "    </tr>\n",
              "    <tr>\n",
              "      <th>4</th>\n",
              "      <td>De Todas Las Flores</td>\n",
              "      <td>Lafourcade is doing the world a favor by expos...</td>\n",
              "      <td>María La Curandera</td>\n",
              "      <td>El Lugar Correcto</td>\n",
              "      <td>Pajarito Colibrí</td>\n",
              "      <td>Que Te Vaya Bonito Nicolás</td>\n",
              "    </tr>\n",
              "  </tbody>\n",
              "</table>\n",
              "</div>"
            ],
            "text/plain": [
              "                        album  \\\n",
              "0                  Rock Doido   \n",
              "1         Let God Sort Em Out   \n",
              "2  I Lay Down My Life For You   \n",
              "3                     Spectre   \n",
              "4         De Todas Las Flores   \n",
              "\n",
              "                                             caption             fav_song  \\\n",
              "0  Whole album plays like a DJ set. Mix of Arabic...           Dá‑Lhe Sal   \n",
              "1  I feel like this should’ve blown my mind but I...         E.B.I.T.D.A.   \n",
              "2  Probably not my favorite JPEG album but some g...  I'll Be Right There   \n",
              "3  Thank you Richard for recommending me this alb...            Blue Moon   \n",
              "4  Lafourcade is doing the world a favor by expos...   María La Curandera   \n",
              "\n",
              "                    recommend                     superlative1  \\\n",
              "0            Arrume-se Comigo                   Short Beira Cu   \n",
              "1                Ace Trumpets            All Things Considered   \n",
              "2  Either On Or Off The Drugs  Don't Put Anything On The Bible   \n",
              "3                         クラゲ                         Call Out   \n",
              "4           El Lugar Correcto                 Pajarito Colibrí   \n",
              "\n",
              "                 superlative2  \n",
              "0   Carregador De Aparelhagem  \n",
              "1                    So Be It  \n",
              "2   It's Dark And Hell Is Hot  \n",
              "3                      シンプルラブ  \n",
              "4  Que Te Vaya Bonito Nicolás  "
            ]
          },
          "execution_count": 189,
          "metadata": {},
          "output_type": "execute_result"
        }
      ],
      "source": [
        "semantic.head()"
      ]
    },
    {
      "cell_type": "markdown",
      "metadata": {
        "id": "_ie4SdFfXvhH"
      },
      "source": [
        "# Summary Statistics\n",
        "\n",
        "Some summary statistics for y'all! Let me know what kind of visuals/tables would be cool to see."
      ]
    },
    {
      "cell_type": "markdown",
      "metadata": {
        "id": "aztUTKSFvzVI"
      },
      "source": [
        "Here are all the albums I have given a 5/5!"
      ]
    },
    {
      "cell_type": "code",
      "execution_count": 190,
      "metadata": {
        "colab": {
          "base_uri": "https://localhost:8080/",
          "height": 780
        },
        "id": "RhuMuWGavU3E",
        "outputId": "7465f0de-131e-4eaa-8b6b-f2a5a90a5393"
      },
      "outputs": [
        {
          "data": {
            "text/html": [
              "<div>\n",
              "<style scoped>\n",
              "    .dataframe tbody tr th:only-of-type {\n",
              "        vertical-align: middle;\n",
              "    }\n",
              "\n",
              "    .dataframe tbody tr th {\n",
              "        vertical-align: top;\n",
              "    }\n",
              "\n",
              "    .dataframe thead th {\n",
              "        text-align: right;\n",
              "    }\n",
              "</style>\n",
              "<table border=\"1\" class=\"dataframe\">\n",
              "  <thead>\n",
              "    <tr style=\"text-align: right;\">\n",
              "      <th></th>\n",
              "      <th>album</th>\n",
              "      <th>artist</th>\n",
              "      <th>year</th>\n",
              "      <th>rating</th>\n",
              "      <th>genre</th>\n",
              "      <th>country</th>\n",
              "      <th>language</th>\n",
              "      <th>num_songs</th>\n",
              "      <th>runtime</th>\n",
              "    </tr>\n",
              "  </thead>\n",
              "  <tbody>\n",
              "    <tr>\n",
              "      <th>6</th>\n",
              "      <td>Windswept Adan</td>\n",
              "      <td>Ichiko Aoba</td>\n",
              "      <td>2020</td>\n",
              "      <td>5</td>\n",
              "      <td>Ambient, Folk</td>\n",
              "      <td>Japan</td>\n",
              "      <td>Japanese</td>\n",
              "      <td>14</td>\n",
              "      <td>0 days 00:50:02</td>\n",
              "    </tr>\n",
              "    <tr>\n",
              "      <th>18</th>\n",
              "      <td>ランプ幻想</td>\n",
              "      <td>Lamp</td>\n",
              "      <td>2008</td>\n",
              "      <td>5</td>\n",
              "      <td>Jazz Pop</td>\n",
              "      <td>Japan</td>\n",
              "      <td>Japanese</td>\n",
              "      <td>11</td>\n",
              "      <td>0 days 00:50:00</td>\n",
              "    </tr>\n",
              "    <tr>\n",
              "      <th>22</th>\n",
              "      <td>Dulce Beat</td>\n",
              "      <td>Belanova</td>\n",
              "      <td>2005</td>\n",
              "      <td>5</td>\n",
              "      <td>Pop, Synthpop</td>\n",
              "      <td>Mexico</td>\n",
              "      <td>Spanish</td>\n",
              "      <td>11</td>\n",
              "      <td>0 days 00:37:04</td>\n",
              "    </tr>\n",
              "    <tr>\n",
              "      <th>31</th>\n",
              "      <td>Velocity : Design : Comfort</td>\n",
              "      <td>Sweet Trip</td>\n",
              "      <td>2003</td>\n",
              "      <td>5</td>\n",
              "      <td>Glitch Pop</td>\n",
              "      <td>USA</td>\n",
              "      <td>English</td>\n",
              "      <td>12</td>\n",
              "      <td>0 days 01:13:25</td>\n",
              "    </tr>\n",
              "    <tr>\n",
              "      <th>36</th>\n",
              "      <td>Discovery</td>\n",
              "      <td>Daft Punk</td>\n",
              "      <td>2001</td>\n",
              "      <td>5</td>\n",
              "      <td>Dance, Electronic</td>\n",
              "      <td>France</td>\n",
              "      <td>English</td>\n",
              "      <td>14</td>\n",
              "      <td>0 days 01:00:50</td>\n",
              "    </tr>\n",
              "    <tr>\n",
              "      <th>37</th>\n",
              "      <td>Is This It</td>\n",
              "      <td>The Strokes</td>\n",
              "      <td>2001</td>\n",
              "      <td>5</td>\n",
              "      <td>Indie Rock</td>\n",
              "      <td>USA</td>\n",
              "      <td>English</td>\n",
              "      <td>11</td>\n",
              "      <td>0 days 00:35:11</td>\n",
              "    </tr>\n",
              "    <tr>\n",
              "      <th>43</th>\n",
              "      <td>98.12.28 男達の別れ</td>\n",
              "      <td>Fishmans</td>\n",
              "      <td>1999</td>\n",
              "      <td>5</td>\n",
              "      <td>Psychedelia, Post Rock</td>\n",
              "      <td>Japan</td>\n",
              "      <td>Japanese</td>\n",
              "      <td>14</td>\n",
              "      <td>0 days 02:10:19</td>\n",
              "    </tr>\n",
              "    <tr>\n",
              "      <th>47</th>\n",
              "      <td>Dots And Loops</td>\n",
              "      <td>Stereolab</td>\n",
              "      <td>1997</td>\n",
              "      <td>5</td>\n",
              "      <td>Art Pop, Psychedelic</td>\n",
              "      <td>France, UK</td>\n",
              "      <td>French, English</td>\n",
              "      <td>10</td>\n",
              "      <td>0 days 01:05:52</td>\n",
              "    </tr>\n",
              "    <tr>\n",
              "      <th>50</th>\n",
              "      <td>宇宙 日本 世田谷</td>\n",
              "      <td>Fishmans</td>\n",
              "      <td>1997</td>\n",
              "      <td>5</td>\n",
              "      <td>Psychedelic</td>\n",
              "      <td>Japan</td>\n",
              "      <td>Japanese, English</td>\n",
              "      <td>8</td>\n",
              "      <td>0 days 00:58:38</td>\n",
              "    </tr>\n",
              "    <tr>\n",
              "      <th>59</th>\n",
              "      <td>Selected Ambient Works 85-92</td>\n",
              "      <td>Aphex Twin</td>\n",
              "      <td>1992</td>\n",
              "      <td>5</td>\n",
              "      <td>Ambient, Electronic</td>\n",
              "      <td>UK</td>\n",
              "      <td>English</td>\n",
              "      <td>13</td>\n",
              "      <td>0 days 01:14:20</td>\n",
              "    </tr>\n",
              "    <tr>\n",
              "      <th>61</th>\n",
              "      <td>Heaven or Las Vegas</td>\n",
              "      <td>Cocteau Twins</td>\n",
              "      <td>1990</td>\n",
              "      <td>5</td>\n",
              "      <td>Dream Pop, Shoegaze</td>\n",
              "      <td>UK</td>\n",
              "      <td>English</td>\n",
              "      <td>10</td>\n",
              "      <td>0 days 00:37:24</td>\n",
              "    </tr>\n",
              "    <tr>\n",
              "      <th>85</th>\n",
              "      <td>Expensive Shit</td>\n",
              "      <td>Fela Kuti</td>\n",
              "      <td>1975</td>\n",
              "      <td>5</td>\n",
              "      <td>Afrobeat</td>\n",
              "      <td>Nigeria</td>\n",
              "      <td>English. Yoruba</td>\n",
              "      <td>2</td>\n",
              "      <td>0 days 00:24:13</td>\n",
              "    </tr>\n",
              "    <tr>\n",
              "      <th>86</th>\n",
              "      <td>Los Jaivas (El Indio)</td>\n",
              "      <td>Los Jaivas</td>\n",
              "      <td>1975</td>\n",
              "      <td>5</td>\n",
              "      <td>Prog Rock, Andino</td>\n",
              "      <td>Chile</td>\n",
              "      <td>Spanish</td>\n",
              "      <td>6</td>\n",
              "      <td>0 days 00:40:46</td>\n",
              "    </tr>\n",
              "    <tr>\n",
              "      <th>89</th>\n",
              "      <td>A Tábua De Esmeralda</td>\n",
              "      <td>Jorge Ben</td>\n",
              "      <td>1974</td>\n",
              "      <td>5</td>\n",
              "      <td>MPB, Samba</td>\n",
              "      <td>Brazil</td>\n",
              "      <td>Portuguese</td>\n",
              "      <td>12</td>\n",
              "      <td>0 days 00:40:12</td>\n",
              "    </tr>\n",
              "    <tr>\n",
              "      <th>91</th>\n",
              "      <td>Clube Da Esquina</td>\n",
              "      <td>Milton Nascimento &amp; Lô Borges</td>\n",
              "      <td>1972</td>\n",
              "      <td>5</td>\n",
              "      <td>MPB</td>\n",
              "      <td>Brazil</td>\n",
              "      <td>Portuguese</td>\n",
              "      <td>21</td>\n",
              "      <td>0 days 01:04:22</td>\n",
              "    </tr>\n",
              "  </tbody>\n",
              "</table>\n",
              "</div>"
            ],
            "text/plain": [
              "                           album                         artist  year  rating  \\\n",
              "6                 Windswept Adan                    Ichiko Aoba  2020       5   \n",
              "18                         ランプ幻想                           Lamp  2008       5   \n",
              "22                    Dulce Beat                       Belanova  2005       5   \n",
              "31   Velocity : Design : Comfort                     Sweet Trip  2003       5   \n",
              "36                     Discovery                      Daft Punk  2001       5   \n",
              "37                    Is This It                    The Strokes  2001       5   \n",
              "43                98.12.28 男達の別れ                       Fishmans  1999       5   \n",
              "47                Dots And Loops                      Stereolab  1997       5   \n",
              "50                     宇宙 日本 世田谷                       Fishmans  1997       5   \n",
              "59  Selected Ambient Works 85-92                     Aphex Twin  1992       5   \n",
              "61           Heaven or Las Vegas                  Cocteau Twins  1990       5   \n",
              "85                Expensive Shit                      Fela Kuti  1975       5   \n",
              "86         Los Jaivas (El Indio)                     Los Jaivas  1975       5   \n",
              "89          A Tábua De Esmeralda                      Jorge Ben  1974       5   \n",
              "91              Clube Da Esquina  Milton Nascimento & Lô Borges  1972       5   \n",
              "\n",
              "                     genre     country           language  num_songs  \\\n",
              "6            Ambient, Folk       Japan           Japanese         14   \n",
              "18                Jazz Pop       Japan           Japanese         11   \n",
              "22           Pop, Synthpop      Mexico            Spanish         11   \n",
              "31              Glitch Pop         USA            English         12   \n",
              "36       Dance, Electronic      France            English         14   \n",
              "37              Indie Rock         USA            English         11   \n",
              "43  Psychedelia, Post Rock       Japan           Japanese         14   \n",
              "47    Art Pop, Psychedelic  France, UK    French, English         10   \n",
              "50             Psychedelic       Japan  Japanese, English          8   \n",
              "59     Ambient, Electronic          UK            English         13   \n",
              "61     Dream Pop, Shoegaze          UK            English         10   \n",
              "85                Afrobeat     Nigeria    English. Yoruba          2   \n",
              "86       Prog Rock, Andino       Chile            Spanish          6   \n",
              "89              MPB, Samba      Brazil         Portuguese         12   \n",
              "91                     MPB      Brazil         Portuguese         21   \n",
              "\n",
              "           runtime  \n",
              "6  0 days 00:50:02  \n",
              "18 0 days 00:50:00  \n",
              "22 0 days 00:37:04  \n",
              "31 0 days 01:13:25  \n",
              "36 0 days 01:00:50  \n",
              "37 0 days 00:35:11  \n",
              "43 0 days 02:10:19  \n",
              "47 0 days 01:05:52  \n",
              "50 0 days 00:58:38  \n",
              "59 0 days 01:14:20  \n",
              "61 0 days 00:37:24  \n",
              "85 0 days 00:24:13  \n",
              "86 0 days 00:40:46  \n",
              "89 0 days 00:40:12  \n",
              "91 0 days 01:04:22  "
            ]
          },
          "execution_count": 190,
          "metadata": {},
          "output_type": "execute_result"
        }
      ],
      "source": [
        "album[album['rating'] == 5]"
      ]
    },
    {
      "cell_type": "markdown",
      "metadata": {
        "id": "r8GOJq6Mv85M"
      },
      "source": [
        "This function is to easily access specific albums across all datasets."
      ]
    },
    {
      "cell_type": "code",
      "execution_count": 191,
      "metadata": {
        "id": "tKeDTWVqMOow"
      },
      "outputs": [],
      "source": [
        "def get_album_info(album_name):\n",
        "  return list([album[album['album'] == album_name],\n",
        "               song[song['album'] == album_name],\n",
        "               semantic[semantic['album'] == album_name]])"
      ]
    },
    {
      "cell_type": "code",
      "execution_count": 192,
      "metadata": {
        "colab": {
          "base_uri": "https://localhost:8080/"
        },
        "id": "Hq3kK1akPoTe",
        "outputId": "0c733be5-08eb-4ddf-b062-5580e2620874"
      },
      "outputs": [
        {
          "data": {
            "text/plain": [
              "[         album       artist  year  rating       genre country language  \\\n",
              " 82  I Want You  Marvin Gaye  1976       4  Soul, Funk     USA  English   \n",
              " \n",
              "     num_songs         runtime  \n",
              " 82         11 0 days 00:37:54  ,\n",
              "            album                            name          length  rating\n",
              " 1004  I Want You              I Want You (Vocal) 0 days 00:04:35       5\n",
              " 1005  I Want You         Come Live With Me Angel 0 days 00:06:28       4\n",
              " 1006  I Want You  After The Dance (Instrumental) 0 days 00:04:21       3\n",
              " 1007  I Want You         Feel All My Love Inside 0 days 00:03:23       3\n",
              " 1008  I Want You        I Wanna Be Where You Are 0 days 00:01:17       4\n",
              " 1009  I Want You              All The Way Around 0 days 00:03:45       5\n",
              " 1010  I Want You                 Since I Had You 0 days 00:04:05       3\n",
              " 1011  I Want You   Soon I’ll Be Loving You Again 0 days 00:03:16       5\n",
              " 1012  I Want You          I Want You (Intro Jam) 0 days 00:01:36       4\n",
              " 1013  I Want You         After The Dance (Vocal) 0 days 00:04:40       4,\n",
              "          album                                            caption  \\\n",
              " 82  I Want You  Underrated in Gaye’s catalog. Most danceable a...   \n",
              " \n",
              "                          fav_song           recommend        superlative1  \\\n",
              " 82  Soon I’ll Be Loving You Again  I Want You (Vocal)  All The Way Around   \n",
              " \n",
              "        superlative2  \n",
              " 82  Since I Had You  ]"
            ]
          },
          "execution_count": 192,
          "metadata": {},
          "output_type": "execute_result"
        }
      ],
      "source": [
        "get_album_info('I Want You')"
      ]
    },
    {
      "cell_type": "markdown",
      "metadata": {
        "id": "V8iEMkP0wGO3"
      },
      "source": [
        "Now I will do some basic tables/plots of data."
      ]
    },
    {
      "cell_type": "markdown",
      "metadata": {
        "id": "bOzAT_Afm-W5"
      },
      "source": [
        "### Column Summaries"
      ]
    },
    {
      "cell_type": "code",
      "execution_count": 193,
      "metadata": {
        "id": "gPXZj6DbYWig"
      },
      "outputs": [],
      "source": [
        "import matplotlib.pyplot as plt\n",
        "import seaborn as sns"
      ]
    },
    {
      "cell_type": "code",
      "execution_count": 194,
      "metadata": {
        "colab": {
          "base_uri": "https://localhost:8080/",
          "height": 81
        },
        "id": "MfpSc4UcYqew",
        "outputId": "b1cba0cd-ffc9-481a-e811-f19cc89bee1c"
      },
      "outputs": [
        {
          "data": {
            "text/html": [
              "<div>\n",
              "<style scoped>\n",
              "    .dataframe tbody tr th:only-of-type {\n",
              "        vertical-align: middle;\n",
              "    }\n",
              "\n",
              "    .dataframe tbody tr th {\n",
              "        vertical-align: top;\n",
              "    }\n",
              "\n",
              "    .dataframe thead th {\n",
              "        text-align: right;\n",
              "    }\n",
              "</style>\n",
              "<table border=\"1\" class=\"dataframe\">\n",
              "  <thead>\n",
              "    <tr style=\"text-align: right;\">\n",
              "      <th></th>\n",
              "      <th>count</th>\n",
              "      <th>mean</th>\n",
              "      <th>std</th>\n",
              "      <th>min</th>\n",
              "      <th>25%</th>\n",
              "      <th>50%</th>\n",
              "      <th>75%</th>\n",
              "      <th>max</th>\n",
              "    </tr>\n",
              "  </thead>\n",
              "  <tbody>\n",
              "    <tr>\n",
              "      <th>rating</th>\n",
              "      <td>99.0</td>\n",
              "      <td>3.606061</td>\n",
              "      <td>0.901452</td>\n",
              "      <td>2.0</td>\n",
              "      <td>3.0</td>\n",
              "      <td>4.0</td>\n",
              "      <td>4.0</td>\n",
              "      <td>5.0</td>\n",
              "    </tr>\n",
              "  </tbody>\n",
              "</table>\n",
              "</div>"
            ],
            "text/plain": [
              "        count      mean       std  min  25%  50%  75%  max\n",
              "rating   99.0  3.606061  0.901452  2.0  3.0  4.0  4.0  5.0"
            ]
          },
          "execution_count": 194,
          "metadata": {},
          "output_type": "execute_result"
        }
      ],
      "source": [
        "album['rating'].describe().to_frame().T"
      ]
    },
    {
      "cell_type": "code",
      "execution_count": 195,
      "metadata": {
        "colab": {
          "base_uri": "https://localhost:8080/",
          "height": 472
        },
        "id": "XP0bGBQTXx4a",
        "outputId": "1890175b-df11-4db7-c442-b4df1e7580d2"
      },
      "outputs": [
        {
          "data": {
            "image/png": "[encoded data removed]",
            "text/plain": [
              "<Figure size 432x288 with 1 Axes>"
            ]
          },
          "metadata": {
            "needs_background": "light"
          },
          "output_type": "display_data"
        }
      ],
      "source": [
        "sns.histplot(album['rating'])\n",
        "plt.xlabel('Rating')\n",
        "plt.title('Distribution of Album Ratings')\n",
        "plt.show()"
      ]
    },
    {
      "cell_type": "code",
      "execution_count": 196,
      "metadata": {
        "colab": {
          "base_uri": "https://localhost:8080/",
          "height": 81
        },
        "id": "NEzut8wkr9ew",
        "outputId": "3c9d4d2a-e5bb-4aa9-903a-04cbda4b6375"
      },
      "outputs": [
        {
          "data": {
            "text/html": [
              "<div>\n",
              "<style scoped>\n",
              "    .dataframe tbody tr th:only-of-type {\n",
              "        vertical-align: middle;\n",
              "    }\n",
              "\n",
              "    .dataframe tbody tr th {\n",
              "        vertical-align: top;\n",
              "    }\n",
              "\n",
              "    .dataframe thead th {\n",
              "        text-align: right;\n",
              "    }\n",
              "</style>\n",
              "<table border=\"1\" class=\"dataframe\">\n",
              "  <thead>\n",
              "    <tr style=\"text-align: right;\">\n",
              "      <th></th>\n",
              "      <th>count</th>\n",
              "      <th>mean</th>\n",
              "      <th>std</th>\n",
              "      <th>min</th>\n",
              "      <th>25%</th>\n",
              "      <th>50%</th>\n",
              "      <th>75%</th>\n",
              "      <th>max</th>\n",
              "    </tr>\n",
              "  </thead>\n",
              "  <tbody>\n",
              "    <tr>\n",
              "      <th>rating</th>\n",
              "      <td>1167.0</td>\n",
              "      <td>3.562982</td>\n",
              "      <td>1.148166</td>\n",
              "      <td>1.0</td>\n",
              "      <td>3.0</td>\n",
              "      <td>4.0</td>\n",
              "      <td>5.0</td>\n",
              "      <td>5.0</td>\n",
              "    </tr>\n",
              "  </tbody>\n",
              "</table>\n",
              "</div>"
            ],
            "text/plain": [
              "         count      mean       std  min  25%  50%  75%  max\n",
              "rating  1167.0  3.562982  1.148166  1.0  3.0  4.0  5.0  5.0"
            ]
          },
          "execution_count": 196,
          "metadata": {},
          "output_type": "execute_result"
        }
      ],
      "source": [
        "song['rating'].describe().to_frame().T"
      ]
    },
    {
      "cell_type": "code",
      "execution_count": 197,
      "metadata": {
        "colab": {
          "base_uri": "https://localhost:8080/",
          "height": 472
        },
        "id": "jf3dQAjir_f_",
        "outputId": "c4b53f88-9920-4d07-d544-4f02d3f866e2"
      },
      "outputs": [
        {
          "data": {
            "image/png": "[encoded data removed]",
            "text/plain": [
              "<Figure size 432x288 with 1 Axes>"
            ]
          },
          "metadata": {
            "needs_background": "light"
          },
          "output_type": "display_data"
        }
      ],
      "source": [
        "sns.histplot(song['rating'])\n",
        "plt.xlabel('Rating')\n",
        "plt.title('Distribution of Song Ratings')\n",
        "plt.show()"
      ]
    },
    {
      "cell_type": "code",
      "execution_count": 198,
      "metadata": {
        "colab": {
          "base_uri": "https://localhost:8080/",
          "height": 81
        },
        "id": "gLsSov0QYRX1",
        "outputId": "3b0882d3-47bb-4374-839e-c28d5f4e746c"
      },
      "outputs": [
        {
          "data": {
            "text/html": [
              "<div>\n",
              "<style scoped>\n",
              "    .dataframe tbody tr th:only-of-type {\n",
              "        vertical-align: middle;\n",
              "    }\n",
              "\n",
              "    .dataframe tbody tr th {\n",
              "        vertical-align: top;\n",
              "    }\n",
              "\n",
              "    .dataframe thead th {\n",
              "        text-align: right;\n",
              "    }\n",
              "</style>\n",
              "<table border=\"1\" class=\"dataframe\">\n",
              "  <thead>\n",
              "    <tr style=\"text-align: right;\">\n",
              "      <th></th>\n",
              "      <th>count</th>\n",
              "      <th>mean</th>\n",
              "      <th>std</th>\n",
              "      <th>min</th>\n",
              "      <th>25%</th>\n",
              "      <th>50%</th>\n",
              "      <th>75%</th>\n",
              "      <th>max</th>\n",
              "    </tr>\n",
              "  </thead>\n",
              "  <tbody>\n",
              "    <tr>\n",
              "      <th>year</th>\n",
              "      <td>99.0</td>\n",
              "      <td>1994.989899</td>\n",
              "      <td>15.642365</td>\n",
              "      <td>1963.0</td>\n",
              "      <td>1982.0</td>\n",
              "      <td>1997.0</td>\n",
              "      <td>2005.0</td>\n",
              "      <td>2025.0</td>\n",
              "    </tr>\n",
              "  </tbody>\n",
              "</table>\n",
              "</div>"
            ],
            "text/plain": [
              "      count         mean        std     min     25%     50%     75%     max\n",
              "year   99.0  1994.989899  15.642365  1963.0  1982.0  1997.0  2005.0  2025.0"
            ]
          },
          "execution_count": 198,
          "metadata": {},
          "output_type": "execute_result"
        }
      ],
      "source": [
        "album['year'].describe().to_frame().T"
      ]
    },
    {
      "cell_type": "code",
      "execution_count": 199,
      "metadata": {
        "colab": {
          "base_uri": "https://localhost:8080/",
          "height": 487
        },
        "id": "J99h8uqBZB0g",
        "outputId": "b3ea6c22-1b67-4d28-c898-ad01c84ee0a6"
      },
      "outputs": [
        {
          "data": {
            "image/png": "[encoded data removed]",
            "text/plain": [
              "<Figure size 432x288 with 1 Axes>"
            ]
          },
          "metadata": {
            "needs_background": "light"
          },
          "output_type": "display_data"
        }
      ],
      "source": [
        "sns.countplot(data = album, x = 'year',\n",
        "              order = range(album['year'].min(), album['year'].max() + 1))\n",
        "plt.title('Distribution of Release Years')\n",
        "plt.xticks(ticks = range(0, album['year'].max() - album['year'].min() + 1, 2),\n",
        "           rotation = 90)\n",
        "plt.tight_layout()\n",
        "plt.show()"
      ]
    },
    {
      "cell_type": "code",
      "execution_count": 200,
      "metadata": {},
      "outputs": [
        {
          "data": {
            "text/plain": [
              "<AxesSubplot:xlabel='year', ylabel='rating'>"
            ]
          },
          "execution_count": 200,
          "metadata": {},
          "output_type": "execute_result"
        },
        {
          "data": {
            "image/png": "[encoded data removed]",
            "text/plain": [
              "<Figure size 432x288 with 1 Axes>"
            ]
          },
          "metadata": {
            "needs_background": "light"
          },
          "output_type": "display_data"
        }
      ],
      "source": [
        "sns.scatterplot(data = album, x = 'year', y = 'rating', \n",
        "                hue='rating', legend=False)"
      ]
    },
    {
      "cell_type": "markdown",
      "metadata": {},
      "source": [
        "All the artists that have more than 1 review so far. Pretty good indicator of my favorite artists."
      ]
    },
    {
      "cell_type": "code",
      "execution_count": 201,
      "metadata": {},
      "outputs": [
        {
          "data": {
            "text/html": [
              "<div>\n",
              "<style scoped>\n",
              "    .dataframe tbody tr th:only-of-type {\n",
              "        vertical-align: middle;\n",
              "    }\n",
              "\n",
              "    .dataframe tbody tr th {\n",
              "        vertical-align: top;\n",
              "    }\n",
              "\n",
              "    .dataframe thead th {\n",
              "        text-align: right;\n",
              "    }\n",
              "</style>\n",
              "<table border=\"1\" class=\"dataframe\">\n",
              "  <thead>\n",
              "    <tr style=\"text-align: right;\">\n",
              "      <th></th>\n",
              "      <th>artist</th>\n",
              "      <th>album</th>\n",
              "    </tr>\n",
              "  </thead>\n",
              "  <tbody>\n",
              "    <tr>\n",
              "      <th>3</th>\n",
              "      <td>Aphex Twin</td>\n",
              "      <td>2</td>\n",
              "    </tr>\n",
              "    <tr>\n",
              "      <th>6</th>\n",
              "      <td>Belanova</td>\n",
              "      <td>2</td>\n",
              "    </tr>\n",
              "    <tr>\n",
              "      <th>7</th>\n",
              "      <td>Björk</td>\n",
              "      <td>2</td>\n",
              "    </tr>\n",
              "    <tr>\n",
              "      <th>11</th>\n",
              "      <td>Boards of Canada</td>\n",
              "      <td>2</td>\n",
              "    </tr>\n",
              "    <tr>\n",
              "      <th>15</th>\n",
              "      <td>Caifanes</td>\n",
              "      <td>2</td>\n",
              "    </tr>\n",
              "    <tr>\n",
              "      <th>20</th>\n",
              "      <td>Daft Punk</td>\n",
              "      <td>2</td>\n",
              "    </tr>\n",
              "    <tr>\n",
              "      <th>30</th>\n",
              "      <td>Faye Wong</td>\n",
              "      <td>2</td>\n",
              "    </tr>\n",
              "    <tr>\n",
              "      <th>33</th>\n",
              "      <td>Fishmans</td>\n",
              "      <td>3</td>\n",
              "    </tr>\n",
              "    <tr>\n",
              "      <th>46</th>\n",
              "      <td>Lamp</td>\n",
              "      <td>2</td>\n",
              "    </tr>\n",
              "    <tr>\n",
              "      <th>65</th>\n",
              "      <td>Sade</td>\n",
              "      <td>2</td>\n",
              "    </tr>\n",
              "    <tr>\n",
              "      <th>70</th>\n",
              "      <td>Stereolab</td>\n",
              "      <td>2</td>\n",
              "    </tr>\n",
              "  </tbody>\n",
              "</table>\n",
              "</div>"
            ],
            "text/plain": [
              "              artist  album\n",
              "3         Aphex Twin      2\n",
              "6           Belanova      2\n",
              "7              Björk      2\n",
              "11  Boards of Canada      2\n",
              "15          Caifanes      2\n",
              "20         Daft Punk      2\n",
              "30         Faye Wong      2\n",
              "33          Fishmans      3\n",
              "46              Lamp      2\n",
              "65              Sade      2\n",
              "70         Stereolab      2"
            ]
          },
          "execution_count": 201,
          "metadata": {},
          "output_type": "execute_result"
        }
      ],
      "source": [
        "artist_count = album.groupby('artist').count().reset_index()\n",
        "artist_count[artist_count['album'] > 1][['artist', 'album']]"
      ]
    },
    {
      "cell_type": "markdown",
      "metadata": {
        "id": "6CftUKMs3de7"
      },
      "source": [
        "# Data Analysis\n",
        "\n",
        "Slightly more in depth data analysis that can hopefully uncover some patterns."
      ]
    },
    {
      "cell_type": "code",
      "execution_count": 215,
      "metadata": {
        "colab": {
          "base_uri": "https://localhost:8080/",
          "height": 546
        },
        "id": "Vbc72mcARH88",
        "outputId": "587244f7-8507-432b-8b96-1fad337e9ea5"
      },
      "outputs": [
        {
          "data": {
            "image/png": "[encoded data removed]",
            "text/plain": [
              "<Figure size 360x360 with 1 Axes>"
            ]
          },
          "metadata": {
            "needs_background": "light"
          },
          "output_type": "display_data"
        }
      ],
      "source": [
        "avg_rating = song[['album', 'rating']].groupby('album').mean()\n",
        "rating_plot = album[['album', 'rating']].groupby('album').mean().\\\n",
        "    merge(avg_rating, on = 'album').reset_index()\n",
        "rating_plot = rating_plot.rename(columns = {'rating_x':'album_rating', 'rating_y':'avg_song_rating'})\n",
        "\n",
        "sns.lmplot(data = rating_plot, x = 'avg_song_rating', y = 'album_rating')\n",
        "plt.ylabel('Overall Album Rating')\n",
        "plt.xlabel('Average Rating per Song')\n",
        "plt.title('Avg Song Rating Against Album Rating')\n",
        "plt.tight_layout()"
      ]
    },
    {
      "cell_type": "markdown",
      "metadata": {},
      "source": [
        "Highest Residuals on the plot. AKA highest mismatch of song ratings to album rating."
      ]
    },
    {
      "cell_type": "code",
      "execution_count": 216,
      "metadata": {},
      "outputs": [
        {
          "data": {
            "text/html": [
              "<div>\n",
              "<style scoped>\n",
              "    .dataframe tbody tr th:only-of-type {\n",
              "        vertical-align: middle;\n",
              "    }\n",
              "\n",
              "    .dataframe tbody tr th {\n",
              "        vertical-align: top;\n",
              "    }\n",
              "\n",
              "    .dataframe thead th {\n",
              "        text-align: right;\n",
              "    }\n",
              "</style>\n",
              "<table border=\"1\" class=\"dataframe\">\n",
              "  <thead>\n",
              "    <tr style=\"text-align: right;\">\n",
              "      <th></th>\n",
              "      <th>album</th>\n",
              "      <th>album_rating</th>\n",
              "      <th>avg_song_rating</th>\n",
              "      <th>resid</th>\n",
              "    </tr>\n",
              "  </thead>\n",
              "  <tbody>\n",
              "    <tr>\n",
              "      <th>38</th>\n",
              "      <td>In The Heart Of The Moon</td>\n",
              "      <td>2.0</td>\n",
              "      <td>3.250000</td>\n",
              "      <td>1.250000</td>\n",
              "    </tr>\n",
              "    <tr>\n",
              "      <th>54</th>\n",
              "      <td>Places And Spaces</td>\n",
              "      <td>3.0</td>\n",
              "      <td>4.000000</td>\n",
              "      <td>1.000000</td>\n",
              "    </tr>\n",
              "    <tr>\n",
              "      <th>23</th>\n",
              "      <td>Emperor Tomato Ketchup</td>\n",
              "      <td>2.0</td>\n",
              "      <td>3.000000</td>\n",
              "      <td>1.000000</td>\n",
              "    </tr>\n",
              "    <tr>\n",
              "      <th>2</th>\n",
              "      <td>A Tábua De Esmeralda</td>\n",
              "      <td>5.0</td>\n",
              "      <td>4.000000</td>\n",
              "      <td>1.000000</td>\n",
              "    </tr>\n",
              "    <tr>\n",
              "      <th>21</th>\n",
              "      <td>Dulce Beat</td>\n",
              "      <td>5.0</td>\n",
              "      <td>4.000000</td>\n",
              "      <td>1.000000</td>\n",
              "    </tr>\n",
              "    <tr>\n",
              "      <th>20</th>\n",
              "      <td>Drukqs</td>\n",
              "      <td>4.0</td>\n",
              "      <td>3.066667</td>\n",
              "      <td>0.933333</td>\n",
              "    </tr>\n",
              "    <tr>\n",
              "      <th>31</th>\n",
              "      <td>Heaven or Las Vegas</td>\n",
              "      <td>5.0</td>\n",
              "      <td>4.200000</td>\n",
              "      <td>0.800000</td>\n",
              "    </tr>\n",
              "    <tr>\n",
              "      <th>74</th>\n",
              "      <td>The Campfire Headphase</td>\n",
              "      <td>2.0</td>\n",
              "      <td>2.714286</td>\n",
              "      <td>0.714286</td>\n",
              "    </tr>\n",
              "    <tr>\n",
              "      <th>61</th>\n",
              "      <td>Selected Ambient Works 85-92</td>\n",
              "      <td>5.0</td>\n",
              "      <td>4.307692</td>\n",
              "      <td>0.692308</td>\n",
              "    </tr>\n",
              "    <tr>\n",
              "      <th>49</th>\n",
              "      <td>Mateo Solo Bien Se Lame</td>\n",
              "      <td>2.0</td>\n",
              "      <td>2.692308</td>\n",
              "      <td>0.692308</td>\n",
              "    </tr>\n",
              "  </tbody>\n",
              "</table>\n",
              "</div>"
            ],
            "text/plain": [
              "                           album  album_rating  avg_song_rating     resid\n",
              "38      In The Heart Of The Moon           2.0         3.250000  1.250000\n",
              "54             Places And Spaces           3.0         4.000000  1.000000\n",
              "23        Emperor Tomato Ketchup           2.0         3.000000  1.000000\n",
              "2           A Tábua De Esmeralda           5.0         4.000000  1.000000\n",
              "21                    Dulce Beat           5.0         4.000000  1.000000\n",
              "20                        Drukqs           4.0         3.066667  0.933333\n",
              "31           Heaven or Las Vegas           5.0         4.200000  0.800000\n",
              "74        The Campfire Headphase           2.0         2.714286  0.714286\n",
              "61  Selected Ambient Works 85-92           5.0         4.307692  0.692308\n",
              "49       Mateo Solo Bien Se Lame           2.0         2.692308  0.692308"
            ]
          },
          "execution_count": 216,
          "metadata": {},
          "output_type": "execute_result"
        }
      ],
      "source": [
        "rating_plot['resid'] = abs(rating_plot['album_rating'] - rating_plot['avg_song_rating'])\n",
        "rating_plot.sort_values(by = 'resid', ascending=False)[:10]"
      ]
    },
    {
      "cell_type": "code",
      "execution_count": null,
      "metadata": {},
      "outputs": [],
      "source": []
    }
  ],
  "metadata": {
    "colab": {
      "provenance": [],
      "toc_visible": true
    },
    "kernelspec": {
      "display_name": "base",
      "language": "python",
      "name": "python3"
    },
    "language_info": {
      "codemirror_mode": {
        "name": "ipython",
        "version": 3
      },
      "file_extension": ".py",
      "mimetype": "text/x-python",
      "name": "python",
      "nbconvert_exporter": "python",
      "pygments_lexer": "ipython3",
      "version": "3.9.7"
    }
  },
  "nbformat": 4,
  "nbformat_minor": 0
}
